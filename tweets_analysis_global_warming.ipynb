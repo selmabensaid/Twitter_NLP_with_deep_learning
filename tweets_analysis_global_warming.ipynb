{
 "cells": [
  {
   "cell_type": "code",
   "execution_count": 1,
   "metadata": {},
   "outputs": [],
   "source": [
    "import tensorflow\n"
   ]
  },
  {
   "cell_type": "code",
   "execution_count": 2,
   "metadata": {},
   "outputs": [],
   "source": [
    "# Import useful packages"
   ]
  },
  {
   "cell_type": "code",
   "execution_count": 3,
   "metadata": {},
   "outputs": [
    {
     "name": "stderr",
     "output_type": "stream",
     "text": [
      "[nltk_data] Downloading package punkt to /Users/selma/nltk_data...\n",
      "[nltk_data]   Package punkt is already up-to-date!\n",
      "Using TensorFlow backend.\n"
     ]
    }
   ],
   "source": [
    "import nltk\n",
    "import pandas as pd\n",
    "import re\n",
    "import numpy as np\n",
    "from sklearn.feature_extraction.text import TfidfVectorizer\n",
    "from sklearn.feature_extraction.text import CountVectorizer\n",
    "from sklearn.decomposition import LatentDirichletAllocation\n",
    "import string\n",
    "import matplotlib.pyplot as plt\n",
    "%matplotlib inline\n",
    "ps = nltk.PorterStemmer()           \n",
    "from nltk.stem import WordNetLemmatizer\n",
    "from nltk.tokenize import sent_tokenize, word_tokenize\n",
    "from pprint import pprint\n",
    "\n",
    "from string import punctuation\n",
    "\n",
    "nltk.download('punkt')\n",
    "\n",
    "\n",
    "\n",
    "# spacy for lemmatization\n",
    "import spacy\n",
    "\n",
    "# Plotting tools\n",
    "import pyLDAvis\n",
    "\n",
    "import pyLDAvis.gensim \n",
    "import pyLDAvis.sklearn  \n",
    "import matplotlib.pyplot as plt\n",
    "%matplotlib inline\n",
    "\n",
    "import seaborn as sns\n",
    "sns.set(style=\"darkgrid\")\n",
    "pyLDAvis.enable_notebook()\n",
    "\n",
    "from sklearn.pipeline import Pipeline\n",
    "\n",
    "from sklearn.model_selection import train_test_split\n",
    "from sklearn.metrics import confusion_matrix, classification_report\n",
    "from sklearn.preprocessing import StandardScaler\n",
    "from sklearn.svm import LinearSVC\n",
    "\n",
    "from sklearn.linear_model import LogisticRegressionCV\n",
    "\n",
    "import pickle\n",
    "import os\n",
    "\n",
    "os.environ['KERAS_BACKEND']='tensorflow' \n",
    "\n",
    "from keras.preprocessing.text import Tokenizer\n",
    "from keras.preprocessing.sequence import pad_sequences\n",
    "from keras.utils.np_utils import to_categorical\n",
    "from keras.layers import Embedding\n",
    "from keras.layers import Dense, Input, Flatten\n",
    "from keras.layers import Conv1D, MaxPooling1D, Embedding, Dropout, LSTM, GRU, Bidirectional\n",
    "from keras.models import Model\n",
    "from keras.callbacks import ModelCheckpoint\n",
    "\n",
    "import chakin"
   ]
  },
  {
   "cell_type": "code",
   "execution_count": 4,
   "metadata": {},
   "outputs": [],
   "source": [
    "tweets=pd.read_csv('Global_warming.csv', sep='\\t')"
   ]
  },
  {
   "cell_type": "code",
   "execution_count": 5,
   "metadata": {},
   "outputs": [
    {
     "data": {
      "text/html": [
       "<div>\n",
       "<style scoped>\n",
       "    .dataframe tbody tr th:only-of-type {\n",
       "        vertical-align: middle;\n",
       "    }\n",
       "\n",
       "    .dataframe tbody tr th {\n",
       "        vertical-align: top;\n",
       "    }\n",
       "\n",
       "    .dataframe thead th {\n",
       "        text-align: right;\n",
       "    }\n",
       "</style>\n",
       "<table border=\"1\" class=\"dataframe\">\n",
       "  <thead>\n",
       "    <tr style=\"text-align: right;\">\n",
       "      <th></th>\n",
       "      <th>Unnamed: 0</th>\n",
       "      <th>Favorite Count</th>\n",
       "      <th>Favorited</th>\n",
       "      <th>ID</th>\n",
       "      <th>Phone Type</th>\n",
       "      <th>Replied</th>\n",
       "      <th>Retweet Count</th>\n",
       "      <th>Retweeted</th>\n",
       "      <th>Screen Name</th>\n",
       "      <th>Tweet Coordinates</th>\n",
       "      <th>Tweet Created At</th>\n",
       "      <th>Tweet Text</th>\n",
       "      <th>User Location</th>\n",
       "      <th>User Name</th>\n",
       "    </tr>\n",
       "  </thead>\n",
       "  <tbody>\n",
       "    <tr>\n",
       "      <th>0</th>\n",
       "      <td>0</td>\n",
       "      <td>0</td>\n",
       "      <td>False</td>\n",
       "      <td>1186852600404160512</td>\n",
       "      <td>Twitter Web App</td>\n",
       "      <td>NaN</td>\n",
       "      <td>164</td>\n",
       "      <td>False</td>\n",
       "      <td>eugene_byers</td>\n",
       "      <td>NaN</td>\n",
       "      <td>2019-10-23 03:51:25</td>\n",
       "      <td>RT @climatecosts: Exxon knew for more than 50 ...</td>\n",
       "      <td>Hillside, NJ</td>\n",
       "      <td>Eugene Byers</td>\n",
       "    </tr>\n",
       "    <tr>\n",
       "      <th>1</th>\n",
       "      <td>1</td>\n",
       "      <td>0</td>\n",
       "      <td>False</td>\n",
       "      <td>1186852499921104897</td>\n",
       "      <td>Twitter for iPhone</td>\n",
       "      <td>NaN</td>\n",
       "      <td>1829</td>\n",
       "      <td>False</td>\n",
       "      <td>sweetgin4E</td>\n",
       "      <td>NaN</td>\n",
       "      <td>2019-10-23 03:51:01</td>\n",
       "      <td>RT @1776Stonewall: I told you about the Canadi...</td>\n",
       "      <td>👎dms 👎porn</td>\n",
       "      <td>Virginia</td>\n",
       "    </tr>\n",
       "    <tr>\n",
       "      <th>2</th>\n",
       "      <td>2</td>\n",
       "      <td>0</td>\n",
       "      <td>False</td>\n",
       "      <td>1186852484200820736</td>\n",
       "      <td>Twitter for Android</td>\n",
       "      <td>NaN</td>\n",
       "      <td>1829</td>\n",
       "      <td>False</td>\n",
       "      <td>americanqueen84</td>\n",
       "      <td>NaN</td>\n",
       "      <td>2019-10-23 03:50:57</td>\n",
       "      <td>RT @1776Stonewall: I told you about the Canadi...</td>\n",
       "      <td>California, USA</td>\n",
       "      <td>Liz Sensanbaugher🇺🇸</td>\n",
       "    </tr>\n",
       "    <tr>\n",
       "      <th>3</th>\n",
       "      <td>3</td>\n",
       "      <td>0</td>\n",
       "      <td>False</td>\n",
       "      <td>1186852478203002881</td>\n",
       "      <td>Twitter for iPad</td>\n",
       "      <td>1.186850e+18</td>\n",
       "      <td>0</td>\n",
       "      <td>False</td>\n",
       "      <td>aguy18310792</td>\n",
       "      <td>NaN</td>\n",
       "      <td>2019-10-23 03:50:56</td>\n",
       "      <td>@Misfit603 @TexasRickPowell @CNN Global warmin...</td>\n",
       "      <td>PNW</td>\n",
       "      <td>aguy</td>\n",
       "    </tr>\n",
       "    <tr>\n",
       "      <th>4</th>\n",
       "      <td>4</td>\n",
       "      <td>0</td>\n",
       "      <td>False</td>\n",
       "      <td>1186852446812831744</td>\n",
       "      <td>Twitter Web App</td>\n",
       "      <td>NaN</td>\n",
       "      <td>2877</td>\n",
       "      <td>False</td>\n",
       "      <td>Protectionist10</td>\n",
       "      <td>NaN</td>\n",
       "      <td>2019-10-23 03:50:48</td>\n",
       "      <td>RT @SayWhenLA: You circle jerk over Tulsi, yet...</td>\n",
       "      <td>Hawaii</td>\n",
       "      <td>🇺🇸Protectionist🇺🇸</td>\n",
       "    </tr>\n",
       "  </tbody>\n",
       "</table>\n",
       "</div>"
      ],
      "text/plain": [
       "   Unnamed: 0  Favorite Count  Favorited                   ID  \\\n",
       "0           0               0      False  1186852600404160512   \n",
       "1           1               0      False  1186852499921104897   \n",
       "2           2               0      False  1186852484200820736   \n",
       "3           3               0      False  1186852478203002881   \n",
       "4           4               0      False  1186852446812831744   \n",
       "\n",
       "            Phone Type       Replied  Retweet Count  Retweeted  \\\n",
       "0      Twitter Web App           NaN            164      False   \n",
       "1   Twitter for iPhone           NaN           1829      False   \n",
       "2  Twitter for Android           NaN           1829      False   \n",
       "3     Twitter for iPad  1.186850e+18              0      False   \n",
       "4      Twitter Web App           NaN           2877      False   \n",
       "\n",
       "       Screen Name  Tweet Coordinates     Tweet Created At  \\\n",
       "0     eugene_byers                NaN  2019-10-23 03:51:25   \n",
       "1       sweetgin4E                NaN  2019-10-23 03:51:01   \n",
       "2  americanqueen84                NaN  2019-10-23 03:50:57   \n",
       "3     aguy18310792                NaN  2019-10-23 03:50:56   \n",
       "4  Protectionist10                NaN  2019-10-23 03:50:48   \n",
       "\n",
       "                                          Tweet Text    User Location  \\\n",
       "0  RT @climatecosts: Exxon knew for more than 50 ...     Hillside, NJ   \n",
       "1  RT @1776Stonewall: I told you about the Canadi...       👎dms 👎porn   \n",
       "2  RT @1776Stonewall: I told you about the Canadi...  California, USA   \n",
       "3  @Misfit603 @TexasRickPowell @CNN Global warmin...              PNW   \n",
       "4  RT @SayWhenLA: You circle jerk over Tulsi, yet...           Hawaii   \n",
       "\n",
       "             User Name  \n",
       "0         Eugene Byers  \n",
       "1             Virginia  \n",
       "2  Liz Sensanbaugher🇺🇸  \n",
       "3                 aguy  \n",
       "4    🇺🇸Protectionist🇺🇸  "
      ]
     },
     "execution_count": 5,
     "metadata": {},
     "output_type": "execute_result"
    }
   ],
   "source": [
    "tweets.head()"
   ]
  },
  {
   "cell_type": "code",
   "execution_count": 6,
   "metadata": {
    "jupyter": {
     "source_hidden": true
    }
   },
   "outputs": [
    {
     "name": "stdout",
     "output_type": "stream",
     "text": [
      "<class 'pandas.core.frame.DataFrame'>\n",
      "RangeIndex: 10000 entries, 0 to 9999\n",
      "Data columns (total 14 columns):\n",
      "Unnamed: 0           10000 non-null int64\n",
      "Favorite Count       10000 non-null int64\n",
      "Favorited            10000 non-null bool\n",
      "ID                   10000 non-null int64\n",
      "Phone Type           10000 non-null object\n",
      "Replied              1194 non-null float64\n",
      "Retweet Count        10000 non-null int64\n",
      "Retweeted            10000 non-null bool\n",
      "Screen Name          10000 non-null object\n",
      "Tweet Coordinates    0 non-null float64\n",
      "Tweet Created At     10000 non-null object\n",
      "Tweet Text           10000 non-null object\n",
      "User Location        6627 non-null object\n",
      "User Name            10000 non-null object\n",
      "dtypes: bool(2), float64(2), int64(4), object(6)\n",
      "memory usage: 957.1+ KB\n"
     ]
    }
   ],
   "source": [
    "tweets.info()"
   ]
  },
  {
   "cell_type": "code",
   "execution_count": 7,
   "metadata": {},
   "outputs": [
    {
     "data": {
      "text/html": [
       "<div>\n",
       "<style scoped>\n",
       "    .dataframe tbody tr th:only-of-type {\n",
       "        vertical-align: middle;\n",
       "    }\n",
       "\n",
       "    .dataframe tbody tr th {\n",
       "        vertical-align: top;\n",
       "    }\n",
       "\n",
       "    .dataframe thead th {\n",
       "        text-align: right;\n",
       "    }\n",
       "</style>\n",
       "<table border=\"1\" class=\"dataframe\">\n",
       "  <thead>\n",
       "    <tr style=\"text-align: right;\">\n",
       "      <th></th>\n",
       "      <th>Unnamed: 0</th>\n",
       "      <th>Favorite Count</th>\n",
       "      <th>ID</th>\n",
       "      <th>Replied</th>\n",
       "      <th>Retweet Count</th>\n",
       "      <th>Tweet Coordinates</th>\n",
       "    </tr>\n",
       "  </thead>\n",
       "  <tbody>\n",
       "    <tr>\n",
       "      <th>count</th>\n",
       "      <td>10000.00000</td>\n",
       "      <td>10000.000000</td>\n",
       "      <td>1.000000e+04</td>\n",
       "      <td>1.194000e+03</td>\n",
       "      <td>10000.000000</td>\n",
       "      <td>0.0</td>\n",
       "    </tr>\n",
       "    <tr>\n",
       "      <th>mean</th>\n",
       "      <td>4999.50000</td>\n",
       "      <td>1.132900</td>\n",
       "      <td>1.186721e+18</td>\n",
       "      <td>1.185385e+18</td>\n",
       "      <td>1092.808800</td>\n",
       "      <td>NaN</td>\n",
       "    </tr>\n",
       "    <tr>\n",
       "      <th>std</th>\n",
       "      <td>2886.89568</td>\n",
       "      <td>35.218777</td>\n",
       "      <td>7.941845e+13</td>\n",
       "      <td>1.539351e+16</td>\n",
       "      <td>6836.944605</td>\n",
       "      <td>NaN</td>\n",
       "    </tr>\n",
       "    <tr>\n",
       "      <th>min</th>\n",
       "      <td>0.00000</td>\n",
       "      <td>0.000000</td>\n",
       "      <td>1.186569e+18</td>\n",
       "      <td>8.262831e+17</td>\n",
       "      <td>0.000000</td>\n",
       "      <td>NaN</td>\n",
       "    </tr>\n",
       "    <tr>\n",
       "      <th>25%</th>\n",
       "      <td>2499.75000</td>\n",
       "      <td>0.000000</td>\n",
       "      <td>1.186650e+18</td>\n",
       "      <td>1.186583e+18</td>\n",
       "      <td>1.000000</td>\n",
       "      <td>NaN</td>\n",
       "    </tr>\n",
       "    <tr>\n",
       "      <th>50%</th>\n",
       "      <td>4999.50000</td>\n",
       "      <td>0.000000</td>\n",
       "      <td>1.186733e+18</td>\n",
       "      <td>1.186669e+18</td>\n",
       "      <td>70.000000</td>\n",
       "      <td>NaN</td>\n",
       "    </tr>\n",
       "    <tr>\n",
       "      <th>75%</th>\n",
       "      <td>7499.25000</td>\n",
       "      <td>0.000000</td>\n",
       "      <td>1.186786e+18</td>\n",
       "      <td>1.186743e+18</td>\n",
       "      <td>1829.000000</td>\n",
       "      <td>NaN</td>\n",
       "    </tr>\n",
       "    <tr>\n",
       "      <th>max</th>\n",
       "      <td>9999.00000</td>\n",
       "      <td>3279.000000</td>\n",
       "      <td>1.186853e+18</td>\n",
       "      <td>1.186852e+18</td>\n",
       "      <td>148912.000000</td>\n",
       "      <td>NaN</td>\n",
       "    </tr>\n",
       "  </tbody>\n",
       "</table>\n",
       "</div>"
      ],
      "text/plain": [
       "        Unnamed: 0  Favorite Count            ID       Replied  Retweet Count  \\\n",
       "count  10000.00000    10000.000000  1.000000e+04  1.194000e+03   10000.000000   \n",
       "mean    4999.50000        1.132900  1.186721e+18  1.185385e+18    1092.808800   \n",
       "std     2886.89568       35.218777  7.941845e+13  1.539351e+16    6836.944605   \n",
       "min        0.00000        0.000000  1.186569e+18  8.262831e+17       0.000000   \n",
       "25%     2499.75000        0.000000  1.186650e+18  1.186583e+18       1.000000   \n",
       "50%     4999.50000        0.000000  1.186733e+18  1.186669e+18      70.000000   \n",
       "75%     7499.25000        0.000000  1.186786e+18  1.186743e+18    1829.000000   \n",
       "max     9999.00000     3279.000000  1.186853e+18  1.186852e+18  148912.000000   \n",
       "\n",
       "       Tweet Coordinates  \n",
       "count                0.0  \n",
       "mean                 NaN  \n",
       "std                  NaN  \n",
       "min                  NaN  \n",
       "25%                  NaN  \n",
       "50%                  NaN  \n",
       "75%                  NaN  \n",
       "max                  NaN  "
      ]
     },
     "execution_count": 7,
     "metadata": {},
     "output_type": "execute_result"
    }
   ],
   "source": [
    "tweets.describe()"
   ]
  },
  {
   "cell_type": "markdown",
   "metadata": {},
   "source": [
    "# Feature engeneering "
   ]
  },
  {
   "cell_type": "code",
   "execution_count": 8,
   "metadata": {},
   "outputs": [],
   "source": [
    "tweets['Tweet Text']=tweets['Tweet Text'].apply(lambda x: str(x))"
   ]
  },
  {
   "cell_type": "code",
   "execution_count": 9,
   "metadata": {},
   "outputs": [],
   "source": [
    "# Number of words\n",
    "tweets ['word_count']= tweets['Tweet Text'].apply(lambda x: len(str(x).split(\" \")))\n",
    "# Number of Characters \n",
    "tweets['char_count'] = tweets['Tweet Text'].str.len()\n",
    "# average word length\n",
    "def avg_word(sentence):\n",
    "    try:\n",
    "        words = sentence.split()\n",
    "        return (sum(len(word) for word in words)/len(words))\n",
    "    except AttributeError:\n",
    "        pass\n",
    "        \n",
    "\n",
    "tweets['avg_word'] = tweets['Tweet Text'].apply(lambda x: avg_word(x))\n",
    "# Count Stopwords\n",
    "from nltk.corpus import stopwords\n",
    "stop = stopwords.words('english')\n",
    "\n",
    "\n",
    "tweets['stopwords_counts'] = tweets['Tweet Text'].apply(lambda x: len([x for x in x.split() if x in stop]))\n",
    "tweets['hastags'] = tweets['Tweet Text'].apply(lambda x: len([x for x in x.split() if x.startswith('#')]))\n",
    "tweets['tags'] = tweets['Tweet Text'].apply(lambda x: len([x for x in x.split() if x.startswith('@')]))\n",
    "tweets['numerics'] = tweets['Tweet Text'].apply(lambda x: len([x for x in x.split() if x.isdigit()]))\n",
    "\n",
    "\n",
    "\n"
   ]
  },
  {
   "cell_type": "markdown",
   "metadata": {},
   "source": [
    "# Clean tweet text to use in Machine learning"
   ]
  },
  {
   "cell_type": "code",
   "execution_count": 10,
   "metadata": {},
   "outputs": [
    {
     "name": "stderr",
     "output_type": "stream",
     "text": [
      "<>:3: DeprecationWarning: invalid escape sequence \\W\n",
      "<>:3: DeprecationWarning: invalid escape sequence \\W\n",
      "<>:3: DeprecationWarning: invalid escape sequence \\W\n",
      "<ipython-input-10-9cca8244e1eb>:3: DeprecationWarning: invalid escape sequence \\W\n",
      "  tokens = re.split('\\W+', text)\n"
     ]
    }
   ],
   "source": [
    "def clean_text(text):\n",
    "    text = \"\".join([word.lower() for word in text if word not in string.punctuation])\n",
    "    tokens = re.split('\\W+', text)\n",
    "    text = [word for word in tokens if word not in stop]\n",
    "    text= [word for word in text  if not word.startswith('#')]\n",
    "    text=[word for word in text if not word.startswith ('@')]\n",
    "    text=[word for word in text if word!='rt']\n",
    "    text=[re.sub(r\"http\\S+\", \"\", word) for word in text]\n",
    "    return text"
   ]
  },
  {
   "cell_type": "code",
   "execution_count": 11,
   "metadata": {},
   "outputs": [],
   "source": [
    "tweets['Clean_tweet_text']= tweets['Tweet Text'].apply(clean_text)"
   ]
  },
  {
   "cell_type": "code",
   "execution_count": 12,
   "metadata": {},
   "outputs": [
    {
     "data": {
      "text/plain": [
       "0    [climatecosts, exxon, knew, 50, years, product...\n",
       "1    [1776stonewall, told, canadian, professor, fir...\n",
       "2    [1776stonewall, told, canadian, professor, fir...\n",
       "3    [misfit603, texasrickpowell, cnn, global, warm...\n",
       "4    [saywhenla, circle, jerk, tulsi, yet, ubi, med...\n",
       "Name: Clean_tweet_text, dtype: object"
      ]
     },
     "execution_count": 12,
     "metadata": {},
     "output_type": "execute_result"
    }
   ],
   "source": [
    "tweets['Clean_tweet_text'].head()"
   ]
  },
  {
   "cell_type": "markdown",
   "metadata": {},
   "source": [
    "# Sentiment analysis"
   ]
  },
  {
   "cell_type": "code",
   "execution_count": 13,
   "metadata": {},
   "outputs": [],
   "source": [
    "from vaderSentiment.vaderSentiment import SentimentIntensityAnalyzer\n",
    "analyser = SentimentIntensityAnalyzer()\n",
    "\n",
    "def sentiment_analyzer_scores(sentence):\n",
    "    score = analyser.polarity_scores(sentence)\n",
    "    return score['compound']"
   ]
  },
  {
   "cell_type": "code",
   "execution_count": 14,
   "metadata": {},
   "outputs": [
    {
     "data": {
      "text/html": [
       "<div>\n",
       "<style scoped>\n",
       "    .dataframe tbody tr th:only-of-type {\n",
       "        vertical-align: middle;\n",
       "    }\n",
       "\n",
       "    .dataframe tbody tr th {\n",
       "        vertical-align: top;\n",
       "    }\n",
       "\n",
       "    .dataframe thead th {\n",
       "        text-align: right;\n",
       "    }\n",
       "</style>\n",
       "<table border=\"1\" class=\"dataframe\">\n",
       "  <thead>\n",
       "    <tr style=\"text-align: right;\">\n",
       "      <th></th>\n",
       "      <th>Unnamed: 0</th>\n",
       "      <th>Favorite Count</th>\n",
       "      <th>Favorited</th>\n",
       "      <th>ID</th>\n",
       "      <th>Phone Type</th>\n",
       "      <th>Replied</th>\n",
       "      <th>Retweet Count</th>\n",
       "      <th>Retweeted</th>\n",
       "      <th>Screen Name</th>\n",
       "      <th>Tweet Coordinates</th>\n",
       "      <th>...</th>\n",
       "      <th>User Name</th>\n",
       "      <th>word_count</th>\n",
       "      <th>char_count</th>\n",
       "      <th>avg_word</th>\n",
       "      <th>stopwords_counts</th>\n",
       "      <th>hastags</th>\n",
       "      <th>tags</th>\n",
       "      <th>numerics</th>\n",
       "      <th>Clean_tweet_text</th>\n",
       "      <th>Polarity_score</th>\n",
       "    </tr>\n",
       "  </thead>\n",
       "  <tbody>\n",
       "    <tr>\n",
       "      <th>0</th>\n",
       "      <td>0</td>\n",
       "      <td>0</td>\n",
       "      <td>False</td>\n",
       "      <td>1186852600404160512</td>\n",
       "      <td>Twitter Web App</td>\n",
       "      <td>NaN</td>\n",
       "      <td>164</td>\n",
       "      <td>False</td>\n",
       "      <td>eugene_byers</td>\n",
       "      <td>NaN</td>\n",
       "      <td>...</td>\n",
       "      <td>Eugene Byers</td>\n",
       "      <td>23</td>\n",
       "      <td>140</td>\n",
       "      <td>5.130435</td>\n",
       "      <td>9</td>\n",
       "      <td>0</td>\n",
       "      <td>1</td>\n",
       "      <td>1</td>\n",
       "      <td>[climatecosts, exxon, knew, 50, years, product...</td>\n",
       "      <td>-0.2023</td>\n",
       "    </tr>\n",
       "    <tr>\n",
       "      <th>1</th>\n",
       "      <td>1</td>\n",
       "      <td>0</td>\n",
       "      <td>False</td>\n",
       "      <td>1186852499921104897</td>\n",
       "      <td>Twitter for iPhone</td>\n",
       "      <td>NaN</td>\n",
       "      <td>1829</td>\n",
       "      <td>False</td>\n",
       "      <td>sweetgin4E</td>\n",
       "      <td>NaN</td>\n",
       "      <td>...</td>\n",
       "      <td>Virginia</td>\n",
       "      <td>24</td>\n",
       "      <td>139</td>\n",
       "      <td>4.833333</td>\n",
       "      <td>10</td>\n",
       "      <td>0</td>\n",
       "      <td>1</td>\n",
       "      <td>0</td>\n",
       "      <td>[1776stonewall, told, canadian, professor, fir...</td>\n",
       "      <td>-0.5574</td>\n",
       "    </tr>\n",
       "    <tr>\n",
       "      <th>2</th>\n",
       "      <td>2</td>\n",
       "      <td>0</td>\n",
       "      <td>False</td>\n",
       "      <td>1186852484200820736</td>\n",
       "      <td>Twitter for Android</td>\n",
       "      <td>NaN</td>\n",
       "      <td>1829</td>\n",
       "      <td>False</td>\n",
       "      <td>americanqueen84</td>\n",
       "      <td>NaN</td>\n",
       "      <td>...</td>\n",
       "      <td>Liz Sensanbaugher🇺🇸</td>\n",
       "      <td>24</td>\n",
       "      <td>139</td>\n",
       "      <td>4.833333</td>\n",
       "      <td>10</td>\n",
       "      <td>0</td>\n",
       "      <td>1</td>\n",
       "      <td>0</td>\n",
       "      <td>[1776stonewall, told, canadian, professor, fir...</td>\n",
       "      <td>-0.5574</td>\n",
       "    </tr>\n",
       "    <tr>\n",
       "      <th>3</th>\n",
       "      <td>3</td>\n",
       "      <td>0</td>\n",
       "      <td>False</td>\n",
       "      <td>1186852478203002881</td>\n",
       "      <td>Twitter for iPad</td>\n",
       "      <td>1.186850e+18</td>\n",
       "      <td>0</td>\n",
       "      <td>False</td>\n",
       "      <td>aguy18310792</td>\n",
       "      <td>NaN</td>\n",
       "      <td>...</td>\n",
       "      <td>aguy</td>\n",
       "      <td>8</td>\n",
       "      <td>67</td>\n",
       "      <td>7.500000</td>\n",
       "      <td>1</td>\n",
       "      <td>0</td>\n",
       "      <td>3</td>\n",
       "      <td>0</td>\n",
       "      <td>[misfit603, texasrickpowell, cnn, global, warm...</td>\n",
       "      <td>0.1531</td>\n",
       "    </tr>\n",
       "    <tr>\n",
       "      <th>4</th>\n",
       "      <td>4</td>\n",
       "      <td>0</td>\n",
       "      <td>False</td>\n",
       "      <td>1186852446812831744</td>\n",
       "      <td>Twitter Web App</td>\n",
       "      <td>NaN</td>\n",
       "      <td>2877</td>\n",
       "      <td>False</td>\n",
       "      <td>Protectionist10</td>\n",
       "      <td>NaN</td>\n",
       "      <td>...</td>\n",
       "      <td>🇺🇸Protectionist🇺🇸</td>\n",
       "      <td>25</td>\n",
       "      <td>140</td>\n",
       "      <td>4.640000</td>\n",
       "      <td>5</td>\n",
       "      <td>0</td>\n",
       "      <td>1</td>\n",
       "      <td>0</td>\n",
       "      <td>[saywhenla, circle, jerk, tulsi, yet, ubi, med...</td>\n",
       "      <td>-0.9100</td>\n",
       "    </tr>\n",
       "  </tbody>\n",
       "</table>\n",
       "<p>5 rows × 23 columns</p>\n",
       "</div>"
      ],
      "text/plain": [
       "   Unnamed: 0  Favorite Count  Favorited                   ID  \\\n",
       "0           0               0      False  1186852600404160512   \n",
       "1           1               0      False  1186852499921104897   \n",
       "2           2               0      False  1186852484200820736   \n",
       "3           3               0      False  1186852478203002881   \n",
       "4           4               0      False  1186852446812831744   \n",
       "\n",
       "            Phone Type       Replied  Retweet Count  Retweeted  \\\n",
       "0      Twitter Web App           NaN            164      False   \n",
       "1   Twitter for iPhone           NaN           1829      False   \n",
       "2  Twitter for Android           NaN           1829      False   \n",
       "3     Twitter for iPad  1.186850e+18              0      False   \n",
       "4      Twitter Web App           NaN           2877      False   \n",
       "\n",
       "       Screen Name  Tweet Coordinates  ...            User Name word_count  \\\n",
       "0     eugene_byers                NaN  ...         Eugene Byers         23   \n",
       "1       sweetgin4E                NaN  ...             Virginia         24   \n",
       "2  americanqueen84                NaN  ...  Liz Sensanbaugher🇺🇸         24   \n",
       "3     aguy18310792                NaN  ...                 aguy          8   \n",
       "4  Protectionist10                NaN  ...    🇺🇸Protectionist🇺🇸         25   \n",
       "\n",
       "  char_count  avg_word  stopwords_counts  hastags  tags  numerics  \\\n",
       "0        140  5.130435                 9        0     1         1   \n",
       "1        139  4.833333                10        0     1         0   \n",
       "2        139  4.833333                10        0     1         0   \n",
       "3         67  7.500000                 1        0     3         0   \n",
       "4        140  4.640000                 5        0     1         0   \n",
       "\n",
       "                                    Clean_tweet_text  Polarity_score  \n",
       "0  [climatecosts, exxon, knew, 50, years, product...         -0.2023  \n",
       "1  [1776stonewall, told, canadian, professor, fir...         -0.5574  \n",
       "2  [1776stonewall, told, canadian, professor, fir...         -0.5574  \n",
       "3  [misfit603, texasrickpowell, cnn, global, warm...          0.1531  \n",
       "4  [saywhenla, circle, jerk, tulsi, yet, ubi, med...         -0.9100  \n",
       "\n",
       "[5 rows x 23 columns]"
      ]
     },
     "execution_count": 14,
     "metadata": {},
     "output_type": "execute_result"
    }
   ],
   "source": [
    "tweets['Polarity_score']=tweets['Tweet Text'].apply(sentiment_analyzer_scores)\n",
    "tweets.head()"
   ]
  },
  {
   "cell_type": "code",
   "execution_count": 15,
   "metadata": {},
   "outputs": [],
   "source": [
    "def Sentiment(score):\n",
    "    if score>0:\n",
    "        return 'Positive'\n",
    "    if score<0:\n",
    "        return 'Negative'\n",
    "    return 'Neutral'"
   ]
  },
  {
   "cell_type": "code",
   "execution_count": 16,
   "metadata": {},
   "outputs": [
    {
     "data": {
      "text/html": [
       "<div>\n",
       "<style scoped>\n",
       "    .dataframe tbody tr th:only-of-type {\n",
       "        vertical-align: middle;\n",
       "    }\n",
       "\n",
       "    .dataframe tbody tr th {\n",
       "        vertical-align: top;\n",
       "    }\n",
       "\n",
       "    .dataframe thead th {\n",
       "        text-align: right;\n",
       "    }\n",
       "</style>\n",
       "<table border=\"1\" class=\"dataframe\">\n",
       "  <thead>\n",
       "    <tr style=\"text-align: right;\">\n",
       "      <th></th>\n",
       "      <th>Unnamed: 0</th>\n",
       "      <th>Favorite Count</th>\n",
       "      <th>Favorited</th>\n",
       "      <th>ID</th>\n",
       "      <th>Phone Type</th>\n",
       "      <th>Replied</th>\n",
       "      <th>Retweet Count</th>\n",
       "      <th>Retweeted</th>\n",
       "      <th>Screen Name</th>\n",
       "      <th>Tweet Coordinates</th>\n",
       "      <th>...</th>\n",
       "      <th>word_count</th>\n",
       "      <th>char_count</th>\n",
       "      <th>avg_word</th>\n",
       "      <th>stopwords_counts</th>\n",
       "      <th>hastags</th>\n",
       "      <th>tags</th>\n",
       "      <th>numerics</th>\n",
       "      <th>Clean_tweet_text</th>\n",
       "      <th>Polarity_score</th>\n",
       "      <th>Sentiment</th>\n",
       "    </tr>\n",
       "  </thead>\n",
       "  <tbody>\n",
       "    <tr>\n",
       "      <th>0</th>\n",
       "      <td>0</td>\n",
       "      <td>0</td>\n",
       "      <td>False</td>\n",
       "      <td>1186852600404160512</td>\n",
       "      <td>Twitter Web App</td>\n",
       "      <td>NaN</td>\n",
       "      <td>164</td>\n",
       "      <td>False</td>\n",
       "      <td>eugene_byers</td>\n",
       "      <td>NaN</td>\n",
       "      <td>...</td>\n",
       "      <td>23</td>\n",
       "      <td>140</td>\n",
       "      <td>5.130435</td>\n",
       "      <td>9</td>\n",
       "      <td>0</td>\n",
       "      <td>1</td>\n",
       "      <td>1</td>\n",
       "      <td>[climatecosts, exxon, knew, 50, years, product...</td>\n",
       "      <td>-0.2023</td>\n",
       "      <td>Negative</td>\n",
       "    </tr>\n",
       "    <tr>\n",
       "      <th>1</th>\n",
       "      <td>1</td>\n",
       "      <td>0</td>\n",
       "      <td>False</td>\n",
       "      <td>1186852499921104897</td>\n",
       "      <td>Twitter for iPhone</td>\n",
       "      <td>NaN</td>\n",
       "      <td>1829</td>\n",
       "      <td>False</td>\n",
       "      <td>sweetgin4E</td>\n",
       "      <td>NaN</td>\n",
       "      <td>...</td>\n",
       "      <td>24</td>\n",
       "      <td>139</td>\n",
       "      <td>4.833333</td>\n",
       "      <td>10</td>\n",
       "      <td>0</td>\n",
       "      <td>1</td>\n",
       "      <td>0</td>\n",
       "      <td>[1776stonewall, told, canadian, professor, fir...</td>\n",
       "      <td>-0.5574</td>\n",
       "      <td>Negative</td>\n",
       "    </tr>\n",
       "    <tr>\n",
       "      <th>2</th>\n",
       "      <td>2</td>\n",
       "      <td>0</td>\n",
       "      <td>False</td>\n",
       "      <td>1186852484200820736</td>\n",
       "      <td>Twitter for Android</td>\n",
       "      <td>NaN</td>\n",
       "      <td>1829</td>\n",
       "      <td>False</td>\n",
       "      <td>americanqueen84</td>\n",
       "      <td>NaN</td>\n",
       "      <td>...</td>\n",
       "      <td>24</td>\n",
       "      <td>139</td>\n",
       "      <td>4.833333</td>\n",
       "      <td>10</td>\n",
       "      <td>0</td>\n",
       "      <td>1</td>\n",
       "      <td>0</td>\n",
       "      <td>[1776stonewall, told, canadian, professor, fir...</td>\n",
       "      <td>-0.5574</td>\n",
       "      <td>Negative</td>\n",
       "    </tr>\n",
       "    <tr>\n",
       "      <th>3</th>\n",
       "      <td>3</td>\n",
       "      <td>0</td>\n",
       "      <td>False</td>\n",
       "      <td>1186852478203002881</td>\n",
       "      <td>Twitter for iPad</td>\n",
       "      <td>1.186850e+18</td>\n",
       "      <td>0</td>\n",
       "      <td>False</td>\n",
       "      <td>aguy18310792</td>\n",
       "      <td>NaN</td>\n",
       "      <td>...</td>\n",
       "      <td>8</td>\n",
       "      <td>67</td>\n",
       "      <td>7.500000</td>\n",
       "      <td>1</td>\n",
       "      <td>0</td>\n",
       "      <td>3</td>\n",
       "      <td>0</td>\n",
       "      <td>[misfit603, texasrickpowell, cnn, global, warm...</td>\n",
       "      <td>0.1531</td>\n",
       "      <td>Positive</td>\n",
       "    </tr>\n",
       "    <tr>\n",
       "      <th>4</th>\n",
       "      <td>4</td>\n",
       "      <td>0</td>\n",
       "      <td>False</td>\n",
       "      <td>1186852446812831744</td>\n",
       "      <td>Twitter Web App</td>\n",
       "      <td>NaN</td>\n",
       "      <td>2877</td>\n",
       "      <td>False</td>\n",
       "      <td>Protectionist10</td>\n",
       "      <td>NaN</td>\n",
       "      <td>...</td>\n",
       "      <td>25</td>\n",
       "      <td>140</td>\n",
       "      <td>4.640000</td>\n",
       "      <td>5</td>\n",
       "      <td>0</td>\n",
       "      <td>1</td>\n",
       "      <td>0</td>\n",
       "      <td>[saywhenla, circle, jerk, tulsi, yet, ubi, med...</td>\n",
       "      <td>-0.9100</td>\n",
       "      <td>Negative</td>\n",
       "    </tr>\n",
       "  </tbody>\n",
       "</table>\n",
       "<p>5 rows × 24 columns</p>\n",
       "</div>"
      ],
      "text/plain": [
       "   Unnamed: 0  Favorite Count  Favorited                   ID  \\\n",
       "0           0               0      False  1186852600404160512   \n",
       "1           1               0      False  1186852499921104897   \n",
       "2           2               0      False  1186852484200820736   \n",
       "3           3               0      False  1186852478203002881   \n",
       "4           4               0      False  1186852446812831744   \n",
       "\n",
       "            Phone Type       Replied  Retweet Count  Retweeted  \\\n",
       "0      Twitter Web App           NaN            164      False   \n",
       "1   Twitter for iPhone           NaN           1829      False   \n",
       "2  Twitter for Android           NaN           1829      False   \n",
       "3     Twitter for iPad  1.186850e+18              0      False   \n",
       "4      Twitter Web App           NaN           2877      False   \n",
       "\n",
       "       Screen Name  Tweet Coordinates  ... word_count char_count  avg_word  \\\n",
       "0     eugene_byers                NaN  ...         23        140  5.130435   \n",
       "1       sweetgin4E                NaN  ...         24        139  4.833333   \n",
       "2  americanqueen84                NaN  ...         24        139  4.833333   \n",
       "3     aguy18310792                NaN  ...          8         67  7.500000   \n",
       "4  Protectionist10                NaN  ...         25        140  4.640000   \n",
       "\n",
       "  stopwords_counts  hastags  tags  numerics  \\\n",
       "0                9        0     1         1   \n",
       "1               10        0     1         0   \n",
       "2               10        0     1         0   \n",
       "3                1        0     3         0   \n",
       "4                5        0     1         0   \n",
       "\n",
       "                                    Clean_tweet_text  Polarity_score  \\\n",
       "0  [climatecosts, exxon, knew, 50, years, product...         -0.2023   \n",
       "1  [1776stonewall, told, canadian, professor, fir...         -0.5574   \n",
       "2  [1776stonewall, told, canadian, professor, fir...         -0.5574   \n",
       "3  [misfit603, texasrickpowell, cnn, global, warm...          0.1531   \n",
       "4  [saywhenla, circle, jerk, tulsi, yet, ubi, med...         -0.9100   \n",
       "\n",
       "   Sentiment  \n",
       "0   Negative  \n",
       "1   Negative  \n",
       "2   Negative  \n",
       "3   Positive  \n",
       "4   Negative  \n",
       "\n",
       "[5 rows x 24 columns]"
      ]
     },
     "execution_count": 16,
     "metadata": {},
     "output_type": "execute_result"
    }
   ],
   "source": [
    "tweets['Sentiment']=tweets['Polarity_score'].apply(Sentiment)\n",
    "tweets.head()"
   ]
  },
  {
   "cell_type": "code",
   "execution_count": 17,
   "metadata": {},
   "outputs": [],
   "source": [
    "sample_sentiment=tweets.sample(300)"
   ]
  },
  {
   "cell_type": "code",
   "execution_count": 18,
   "metadata": {},
   "outputs": [],
   "source": [
    "sample_sentiment.to_excel('sample_sentiment.xls')#, sep='\\t', encoding='utf-8', header=False)"
   ]
  },
  {
   "cell_type": "markdown",
   "metadata": {},
   "source": [
    "# TFIDF Vectorizer"
   ]
  },
  {
   "cell_type": "code",
   "execution_count": 14,
   "metadata": {},
   "outputs": [],
   "source": [
    "tfidf_vect = TfidfVectorizer(analyzer=clean_text)\n",
    "X_tfidf = tfidf_vect.fit_transform(tweets['Tweet Text'])"
   ]
  },
  {
   "cell_type": "markdown",
   "metadata": {},
   "source": [
    "# LDA "
   ]
  },
  {
   "cell_type": "code",
   "execution_count": 15,
   "metadata": {},
   "outputs": [],
   "source": [
    "components=6\n",
    "random_state=0"
   ]
  },
  {
   "cell_type": "code",
   "execution_count": 16,
   "metadata": {},
   "outputs": [],
   "source": [
    "LDA=LatentDirichletAllocation(n_components=components, random_state=random_state)"
   ]
  },
  {
   "cell_type": "code",
   "execution_count": 17,
   "metadata": {},
   "outputs": [
    {
     "data": {
      "text/plain": [
       "LatentDirichletAllocation(batch_size=128, doc_topic_prior=None,\n",
       "                          evaluate_every=-1, learning_decay=0.7,\n",
       "                          learning_method='batch', learning_offset=10.0,\n",
       "                          max_doc_update_iter=100, max_iter=10,\n",
       "                          mean_change_tol=0.001, n_components=6, n_jobs=None,\n",
       "                          perp_tol=0.1, random_state=0, topic_word_prior=None,\n",
       "                          total_samples=1000000.0, verbose=0)"
      ]
     },
     "execution_count": 17,
     "metadata": {},
     "output_type": "execute_result"
    }
   ],
   "source": [
    "LDA.fit(X_tfidf)"
   ]
  },
  {
   "cell_type": "markdown",
   "metadata": {},
   "source": [
    "# get the most comon words for each topic"
   ]
  },
  {
   "cell_type": "code",
   "execution_count": 23,
   "metadata": {},
   "outputs": [
    {
     "name": "stdout",
     "output_type": "stream",
     "text": [
      "Top 20 words for topic0\n",
      "60\n",
      "known\n",
      "dangers\n",
      "\n",
      "breitbartnews\n",
      "news\n",
      "awful\n",
      "gang\n",
      "another\n",
      "hoax\n",
      "hoaxes\n",
      "long\n",
      "line\n",
      "liberal\n",
      "truth\n",
      "dbongino\n",
      "existential\n",
      "threat\n",
      "global\n",
      "warming\n",
      "********************************\n",
      "Top 20 words for topic1\n",
      "speech\n",
      "democrats\n",
      "state\n",
      "natural\n",
      "trump\n",
      "may\n",
      "products\n",
      "warning\n",
      "instead\n",
      "sp\n",
      "50\n",
      "climatecosts\n",
      "knew\n",
      "causing\n",
      "years\n",
      "public\n",
      "exxon\n",
      "warming\n",
      "global\n",
      "\n",
      "********************************\n",
      "Top 20 words for topic2\n",
      "top\n",
      "via\n",
      "telling\n",
      "psychometalhed\n",
      "heretical\n",
      "ny\n",
      "sin\n",
      "warming\n",
      "global\n",
      "\n",
      "arctic\n",
      "told\n",
      "canadian\n",
      "1776stonewall\n",
      "thriving\n",
      "fired\n",
      "professor\n",
      "proved\n",
      "polar\n",
      "bears\n",
      "********************************\n",
      "Top 20 words for topic3\n",
      "vibrant\n",
      "barrier\n",
      "future\n",
      "great\n",
      "says\n",
      "warming\n",
      "global\n",
      "reef\n",
      "\n",
      "fuel\n",
      "fossil\n",
      "heat\n",
      "compani\n",
      "nytclimate\n",
      "mess\n",
      "homes\n",
      "nytopinion\n",
      "cars\n",
      "drive\n",
      "climate\n",
      "********************************\n",
      "Top 20 words for topic4\n",
      "90\n",
      "average\n",
      "like\n",
      "would\n",
      "weather\n",
      "100\n",
      "world\n",
      "happening\n",
      "shit\n",
      "percent\n",
      "real\n",
      "could\n",
      "still\n",
      "cold\n",
      "talk\n",
      "fast\n",
      "people\n",
      "\n",
      "warming\n",
      "global\n",
      "********************************\n",
      "Top 20 words for topic5\n",
      "report\n",
      "real\n",
      "co2\n",
      "climate\n",
      "know\n",
      "made\n",
      "new\n",
      "university\n",
      "gamechanger\n",
      "methane\n",
      "sarahvetwales\n",
      "britains\n",
      "oxford\n",
      "categorically\n",
      "ruminants\n",
      "research\n",
      "shows\n",
      "warming\n",
      "global\n",
      "\n",
      "********************************\n"
     ]
    }
   ],
   "source": [
    "for index, topic in enumerate( LDA.components_):\n",
    "    print ('Top 20 words for topic{}'.format(index))\n",
    "    for i in topic.argsort()[-20:]:\n",
    "        print (tfidf_vect.get_feature_names()[i])\n",
    "    print('********************************') "
   ]
  },
  {
   "cell_type": "markdown",
   "metadata": {},
   "source": [
    "# create a topic label column in the original dataframe"
   ]
  },
  {
   "cell_type": "code",
   "execution_count": 18,
   "metadata": {},
   "outputs": [],
   "source": [
    "topic_results=LDA.transform(X_tfidf)"
   ]
  },
  {
   "cell_type": "code",
   "execution_count": 19,
   "metadata": {},
   "outputs": [
    {
     "data": {
      "text/plain": [
       "(10000, 6)"
      ]
     },
     "execution_count": 19,
     "metadata": {},
     "output_type": "execute_result"
    }
   ],
   "source": [
    "topic_results.shape"
   ]
  },
  {
   "cell_type": "code",
   "execution_count": 20,
   "metadata": {},
   "outputs": [],
   "source": [
    "tweets['topic']=topic_results.argmax(axis=1)"
   ]
  },
  {
   "cell_type": "markdown",
   "metadata": {},
   "source": [
    "tweets.head()"
   ]
  },
  {
   "cell_type": "markdown",
   "metadata": {},
   "source": [
    "# Visualisations"
   ]
  },
  {
   "cell_type": "code",
   "execution_count": 27,
   "metadata": {},
   "outputs": [
    {
     "data": {
      "text/plain": [
       "Text(0.5, 1.0, 'topic distribution')"
      ]
     },
     "execution_count": 27,
     "metadata": {},
     "output_type": "execute_result"
    },
    {
     "data": {
      "image/png": "[encoded data removed]",
      "text/plain": [
       "<Figure size 432x288 with 1 Axes>"
      ]
     },
     "metadata": {
      "needs_background": "light"
     },
     "output_type": "display_data"
    }
   ],
   "source": [
    "ax = sns.countplot(x=\"topic\", data=tweets)\n",
    "ax.set_title('topic distribution')"
   ]
  },
  {
   "cell_type": "code",
   "execution_count": 24,
   "metadata": {},
   "outputs": [
    {
     "data": {
      "text/plain": [
       "Text(0.5, 1.0, 'topic distribution')"
      ]
     },
     "execution_count": 24,
     "metadata": {},
     "output_type": "execute_result"
    },
    {
     "data": {
      "image/png": "[encoded data removed]",
      "text/plain": [
       "<Figure size 432x288 with 1 Axes>"
      ]
     },
     "metadata": {
      "needs_background": "light"
     },
     "output_type": "display_data"
    }
   ],
   "source": [
    "ax = sns.countplot(x=\"topic\",hue='Sentiment', data=tweets)\n",
    "ax.set_title('topic distribution')"
   ]
  },
  {
   "cell_type": "code",
   "execution_count": 36,
   "metadata": {},
   "outputs": [
    {
     "name": "stderr",
     "output_type": "stream",
     "text": [
      "//anaconda3/lib/python3.7/site-packages/pyLDAvis/_prepare.py:257: FutureWarning: Sorting because non-concatenation axis is not aligned. A future version\n",
      "of pandas will change to not sort by default.\n",
      "\n",
      "To accept the future behavior, pass 'sort=False'.\n",
      "\n",
      "To retain the current behavior and silence the warning, pass 'sort=True'.\n",
      "\n",
      "  return pd.concat([default_term_info] + list(topic_dfs))\n"
     ]
    },
    {
     "data": {
      "text/html": [
       "\n",
       "<link rel=\"stylesheet\" type=\"text/css\" href=\"https://cdn.rawgit.com/bmabey/pyLDAvis/files/ldavis.v1.0.0.css\">\n",
       "\n",
       "\n",
       "<div id=\"ldavis_el15331122906106565317495769\"></div>\n",
       "<script type=\"text/javascript\">\n",
       "\n",
       "var ldavis_el15331122906106565317495769_data = {\"mdsDat\": {\"x\": [-11.721327781677246, -48.44116973876953, 10.93197250366211, 61.6264762878418, -3.111372947692871, 56.30571365356445], \"y\": [-40.08397674560547, 19.511503219604492, 14.984368324279785, 46.222164154052734, 72.85037231445312, -23.57683563232422], \"topics\": [1, 2, 3, 4, 5, 6], \"cluster\": [1, 1, 1, 1, 1, 1], \"Freq\": [21.99083730735939, 21.293213107895387, 16.097929333002682, 15.649611738716493, 13.686360751677224, 11.282047761348823]}, \"tinfo\": {\"Category\": [\"Default\", \"Default\", \"Default\", \"Default\", \"Default\", \"Default\", \"Default\", \"Default\", \"Default\", \"Default\", \"Default\", \"Default\", \"Default\", \"Default\", \"Default\", \"Default\", \"Default\", \"Default\", \"Default\", \"Default\", \"Default\", \"Default\", \"Default\", \"Default\", \"Default\", \"Default\", \"Default\", \"Default\", \"Default\", \"Default\", \"Topic1\", \"Topic1\", \"Topic1\", \"Topic1\", \"Topic1\", \"Topic1\", \"Topic1\", \"Topic1\", \"Topic1\", \"Topic1\", \"Topic1\", \"Topic1\", \"Topic1\", \"Topic1\", \"Topic1\", \"Topic1\", \"Topic1\", \"Topic1\", \"Topic1\", \"Topic1\", \"Topic1\", \"Topic1\", \"Topic1\", \"Topic1\", \"Topic1\", \"Topic1\", \"Topic1\", \"Topic1\", \"Topic1\", \"Topic1\", \"Topic1\", \"Topic1\", \"Topic1\", \"Topic1\", \"Topic1\", \"Topic1\", \"Topic1\", \"Topic1\", \"Topic1\", \"Topic1\", \"Topic1\", \"Topic1\", \"Topic2\", \"Topic2\", \"Topic2\", \"Topic2\", \"Topic2\", \"Topic2\", \"Topic2\", \"Topic2\", \"Topic2\", \"Topic2\", \"Topic2\", \"Topic2\", \"Topic2\", \"Topic2\", \"Topic2\", \"Topic2\", \"Topic2\", \"Topic2\", \"Topic2\", \"Topic2\", \"Topic2\", \"Topic2\", \"Topic2\", \"Topic2\", \"Topic2\", \"Topic2\", \"Topic2\", \"Topic2\", \"Topic2\", \"Topic2\", \"Topic2\", \"Topic2\", \"Topic2\", \"Topic2\", \"Topic2\", \"Topic2\", \"Topic2\", \"Topic2\", \"Topic2\", \"Topic2\", \"Topic2\", \"Topic3\", \"Topic3\", \"Topic3\", \"Topic3\", \"Topic3\", \"Topic3\", \"Topic3\", \"Topic3\", \"Topic3\", \"Topic3\", \"Topic3\", \"Topic3\", \"Topic3\", \"Topic3\", \"Topic3\", \"Topic3\", \"Topic3\", \"Topic3\", \"Topic3\", \"Topic3\", \"Topic3\", \"Topic3\", \"Topic3\", \"Topic3\", \"Topic3\", \"Topic3\", \"Topic3\", \"Topic3\", \"Topic3\", \"Topic3\", \"Topic3\", \"Topic3\", \"Topic3\", \"Topic3\", \"Topic3\", \"Topic3\", \"Topic3\", \"Topic3\", \"Topic3\", \"Topic3\", \"Topic3\", \"Topic3\", \"Topic3\", \"Topic3\", \"Topic3\", \"Topic3\", \"Topic3\", \"Topic4\", \"Topic4\", \"Topic4\", \"Topic4\", \"Topic4\", \"Topic4\", \"Topic4\", \"Topic4\", \"Topic4\", \"Topic4\", \"Topic4\", \"Topic4\", \"Topic4\", \"Topic4\", \"Topic4\", \"Topic4\", \"Topic4\", \"Topic4\", \"Topic4\", \"Topic4\", \"Topic4\", \"Topic4\", \"Topic4\", \"Topic4\", \"Topic4\", \"Topic4\", \"Topic4\", \"Topic4\", \"Topic4\", \"Topic4\", \"Topic4\", \"Topic4\", \"Topic4\", \"Topic4\", \"Topic4\", \"Topic4\", \"Topic4\", \"Topic4\", \"Topic4\", \"Topic4\", \"Topic4\", \"Topic4\", \"Topic4\", \"Topic4\", \"Topic4\", \"Topic4\", \"Topic4\", \"Topic4\", \"Topic5\", \"Topic5\", \"Topic5\", \"Topic5\", \"Topic5\", \"Topic5\", \"Topic5\", \"Topic5\", \"Topic5\", \"Topic5\", \"Topic5\", \"Topic5\", \"Topic5\", \"Topic5\", \"Topic5\", \"Topic5\", \"Topic5\", \"Topic5\", \"Topic5\", \"Topic5\", \"Topic5\", \"Topic5\", \"Topic5\", \"Topic5\", \"Topic5\", \"Topic5\", \"Topic5\", \"Topic5\", \"Topic5\", \"Topic5\", \"Topic5\", \"Topic5\", \"Topic5\", \"Topic5\", \"Topic5\", \"Topic5\", \"Topic5\", \"Topic5\", \"Topic5\", \"Topic5\", \"Topic5\", \"Topic5\", \"Topic5\", \"Topic6\", \"Topic6\", \"Topic6\", \"Topic6\", \"Topic6\", \"Topic6\", \"Topic6\", \"Topic6\", \"Topic6\", \"Topic6\", \"Topic6\", \"Topic6\", \"Topic6\", \"Topic6\", \"Topic6\", \"Topic6\", \"Topic6\", \"Topic6\", \"Topic6\", \"Topic6\", \"Topic6\", \"Topic6\", \"Topic6\", \"Topic6\", \"Topic6\", \"Topic6\", \"Topic6\", \"Topic6\", \"Topic6\", \"Topic6\", \"Topic6\", \"Topic6\", \"Topic6\", \"Topic6\", \"Topic6\", \"Topic6\", \"Topic6\", \"Topic6\", \"Topic6\", \"Topic6\", \"Topic6\", \"Topic6\", \"Topic6\", \"Topic6\", \"Topic6\", \"Topic6\", \"Topic6\", \"Topic6\", \"Topic6\", \"Topic6\", \"Topic6\", \"Topic6\", \"Topic6\"], \"Freq\": [427.0, 427.0, 426.0, 426.0, 423.0, 421.0, 421.0, 421.0, 420.0, 421.0, 229.0, 228.0, 228.0, 228.0, 228.0, 230.0, 229.0, 234.0, 216.0, 216.0, 208.0, 237.0, 221.0, 235.0, 581.0, 582.0, 98.0, 98.0, 97.0, 97.0, 427.2118339551204, 426.27894908753876, 426.2775795239414, 426.5227197606888, 422.81338167170003, 420.5101843965745, 420.46498448715437, 420.4739098446938, 420.2585745634579, 417.9279644768391, 13.425364685444071, 13.277674476248247, 12.785409680335762, 10.861146131136355, 10.223936483762596, 10.223936483762596, 9.974952051475547, 8.213434274291142, 8.016566795388044, 7.5381647553999915, 7.3008014990831, 7.065075964075082, 7.065075964075082, 7.065075964075082, 7.065075964075082, 7.065075964075082, 7.048125417514538, 6.728432384234463, 6.655724980869055, 8.752537833040897, 13.312593068978888, 8.470731415599841, 191.53555447393515, 12.562809338913073, 10.837222648002465, 10.74933931210813, 8.11817041906675, 10.4003299233322, 7.973905923329234, 12.095987692196013, 16.226259869020428, 15.914090958113503, 228.82502600742868, 228.16293465666368, 227.80429820269666, 227.79760910206738, 227.49466997090008, 215.91295498422417, 215.61469982946585, 207.53008056142434, 229.52719403626247, 227.76404076296916, 47.71148958368288, 47.40214911463741, 46.976324920331244, 37.35834617636187, 37.35834617636187, 27.064269916703445, 26.043017002513324, 25.79970468681202, 227.9309308156344, 19.192466120107625, 26.26137854517044, 213.1130644567071, 15.09215347460366, 14.59788454926589, 224.53900597826808, 21.317135516058915, 46.688687483337425, 218.9448115397934, 4.488081032099125, 4.488081032099125, 6.935166150809376, 11.844296544281649, 373.6014642354361, 361.3734868107713, 177.4213432395363, 41.51476988160212, 33.30816482138447, 37.11453890260603, 32.81204967280907, 34.45734210172664, 34.43687895633318, 38.991627036072074, 37.79761141280841, 29.02359925142165, 23.98118141959553, 21.961374317625005, 21.862863135709237, 21.862863135709237, 21.862863135709237, 21.862863135709237, 21.66434810618783, 21.66434810618783, 38.6795578108973, 15.089011353701778, 14.752879762003099, 14.734469447881127, 14.604114213058741, 14.422887823206258, 14.062695893231991, 13.899764765872135, 13.877363755909764, 13.809689949071071, 13.168913993773984, 13.137703491336078, 13.049007194758733, 13.05930765864785, 38.39645548480396, 12.234582896539216, 12.194613972072078, 11.009420228720048, 42.914296604797244, 39.64330350071251, 26.70484992569548, 53.00641432379197, 21.75819027061643, 22.87955187674222, 23.447701085322507, 15.170064728663577, 34.209417488013436, 34.1550791423077, 40.43344126019365, 19.488485665706616, 31.529469626858546, 68.1710511606603, 61.90503519774214, 61.72398035597591, 18.93770225953532, 19.54829838107906, 97.53996663552677, 97.61068036910581, 97.10274050925698, 96.99910752317773, 96.94628428298394, 96.77327423969821, 96.62771201969977, 66.21420591191605, 34.15390910630604, 32.84983465085663, 32.78175729161625, 20.718295666158514, 20.53951674406203, 20.032105098503635, 32.674603131968304, 32.50784457708052, 15.20627152918814, 34.855596042819315, 28.752973025448416, 13.959263277345883, 13.157524012108418, 13.157524012108418, 12.993327210399118, 10.586979306707235, 13.477126655876294, 6.85533043863034, 6.604893667086974, 6.320002372453883, 5.816221987362037, 5.689253225816707, 93.78433388376669, 37.44030421673849, 37.75081286861828, 14.173187177501243, 31.659719207777282, 113.94232410194341, 89.7016420011056, 89.4545728505216, 31.55236662298592, 17.689443872666736, 17.3594217429438, 23.88911721748929, 70.05835743022232, 19.462444765792164, 26.136112126150632, 54.34144150299767, 46.21738097151091, 23.22460900600686, 43.09705709739676, 41.23766469836758, 41.10802036112201, 41.07512999473933, 40.853528665714066, 40.66706124811711, 40.43858198839837, 22.336981233767855, 15.42594953055836, 14.420350080415249, 14.014161771325213, 13.563323722547526, 13.486161637671065, 13.360079576541278, 13.312499110240509, 13.254113065929628, 13.156083794487309, 13.042086440738668, 13.042086440738668, 13.042086440738668, 13.042086440738668, 12.161760964197853, 11.428627733652245, 10.38950668181946, 10.235227306131918, 10.041285711187768, 42.46497268954833, 9.725258775585448, 9.650736075768162, 9.501951196270705, 40.56672109792444, 13.221172911034794, 38.16566357781951, 14.641489434205653, 36.840160137905876, 17.675750524920726, 20.864015069254727, 46.241451315837246, 46.081583953367094, 45.81611636776996, 16.086179770610347, 20.493715164429, 13.490632160928774, 13.57505314902355, 13.3058805552041, 10.753865532209813, 9.494525645631313, 9.022730481526967, 8.275458896341396, 8.253926563873222, 8.107126928459197, 7.905296055032923, 7.905296055032923, 7.89307848340414, 7.32378774916254, 7.223344134000143, 7.158714279025636, 6.891689426116985, 6.831020760843039, 6.69250642358192, 6.69250642358192, 6.681858262393545, 6.433347483304694, 6.1748574064166695, 6.1408855169013785, 5.886268467861478, 5.62026929387588, 5.4659524114223155, 5.217427178507537, 11.003495703970447, 4.86230368483912, 7.8377552775130175, 4.5557371748347135, 9.168979573290963, 7.941062090311992, 10.612528105629472, 14.621983936737683, 9.069454514456064, 7.804076255643119, 12.824512604224104, 9.019408446590713, 17.767712453845387, 12.344215987461626, 7.539440846900433, 42.527315258302885, 38.129505587793574, 9.456658738543439, 29.70244739462143, 11.425305379651874, 10.18029485124221, 9.427147299577356, 8.92824160373931, 9.35620284936043, 8.32810158673394, 9.040528507062385, 8.302699093529933], \"Term\": [\"bears\", \"polar\", \"proved\", \"professor\", \"fired\", \"thriving\", \"1776stonewall\", \"canadian\", \"told\", \"arctic\", \"existential\", \"dbongino\", \"liberal\", \"line\", \"hoaxes\", \"threat\", \"long\", \"truth\", \"gang\", \"awful\", \"breitbartnews\", \"hoax\", \"news\", \"another\", \"warming\", \"global\", \"drive\", \"cars\", \"nytopinion\", \"homes\", \"bears\", \"proved\", \"professor\", \"polar\", \"fired\", \"thriving\", \"canadian\", \"1776stonewall\", \"told\", \"arctic\", \"sin\", \"heretical\", \"psychometalhed\", \"top\", \"nobel\", \"laureate\", \"eclipses\", \"16\", \"arose\", \"almonitor\", \"na\", \"muthungu9\", \"siku\", \"amegrow\", \"izi\", \"sistako\", \"safetypindaily\", \"beef\", \"squares\", \"billion\", \"ny\", \"lawsuit\", \"\", \"telling\", \"concern\", \"nuclear\", \"effort\", \"war\", \"national\", \"via\", \"global\", \"warming\", \"existential\", \"dbongino\", \"liberal\", \"line\", \"hoaxes\", \"gang\", \"awful\", \"breitbartnews\", \"threat\", \"long\", \"dangers\", \"known\", \"60\", \"mzjacobson\", \"pu\", \"case\", \"landmark\", \"accounting\", \"truth\", \"mgrant76308\", \"comes\", \"news\", \"fate\", \"theafrosmash\", \"hoax\", \"business\", \"industry\", \"another\", \"mines\", \"17\", \"potential\", \"naomioreskes\", \"warming\", \"global\", \"\", \"products\", \"warning\", \"years\", \"instead\", \"fuel\", \"fossil\", \"knew\", \"sp\", \"may\", \"natural\", \"speech\", \"tables\", \"gasrich\", \"stuart\", \"varney\", \"foxnew\", \"larryschweikart\", \"climatecosts\", \"trial\", \"giant\", \"whether\", \"square\", \"cooked\", \"books\", \"single\", \"starting\", \"ball\", \"leave\", \"200\", \"co\\u2082\", \"court\", \"50\", \"3week\", \"blaw\", \"climatereality\", \"public\", \"causing\", \"trump\", \"exxon\", \"turn\", \"democrats\", \"state\", \"interesting\", \"instead\", \"warning\", \"years\", \"stop\", \"products\", \"\", \"global\", \"warming\", \"us\", \"like\", \"cars\", \"drive\", \"nytopinion\", \"homes\", \"mess\", \"nytclimate\", \"compani\", \"reef\", \"barrier\", \"vibrant\", \"shape\", \"mrsdriscoll\", \"scare\", \"debunked\", \"killed\", \"authority\", \"rain\", \"future\", \"fires\", \"acid\", \"1975\", \"1985\", \"2012\", \"aviation\", \"2004\", \"topics\", \"junk\", \"hysteria\", \"collide\", \"tale\", \"heat\", \"great\", \"says\", \"layer\", \"thegwpfcom\", \"climate\", \"fossil\", \"fuel\", \"good\", \"forum\", \"gwpf\", \"ozone\", \"\", \"wa\", \"via\", \"global\", \"warming\", \"university\", \"shows\", \"ruminants\", \"categorically\", \"oxford\", \"britains\", \"sarahvetwales\", \"gamechanger\", \"made\", \"report\", \"lie\", \"jaggermickoz\", \"second\", \"free\", \"path\", \"absorb\", \"blow\", \"trap\", \"retention\", \"10000th\", \"ir\", \"33m\", \"smallest\", \"size\", \"club\", \"origins\", \"rome\", \"research\", \"1968\", \"harvard\", \"theglobal\", \"methane\", \"death\", \"university\", \"mean\", \"new\", \"co2\", \"know\", \"\", \"global\", \"warming\", \"real\", \"climate\", \"time\", \"talk\", \"cold\", \"shit\", \"100\", \"often\", \"planetary\", \"catastrophe\", \"greening\", \"imminent\", \"amid\", \"humanprogress\", \"nytimes\", \"everywhere\", \"theeconomist\", \"blackouts\", \"manage\", \"recommends\", \"mandatory\", \"abo\", \"71\", \"solution\", \"locking\", \"everyth\", \"halt\", \"corals\", \"cclimateaction\", \"percent\", \"nairashalaby\", \"wont\", \"fossilfuel\", \"average\", \"ignored\", \"happening\", \"fast\", \"90\", \"twice\", \"still\", \"fact\", \"people\", \"could\", \"forests\", \"global\", \"warming\", \"weather\", \"\", \"real\", \"world\", \"would\", \"really\", \"like\", \"going\", \"climate\", \"believe\"], \"Total\": [427.0, 427.0, 426.0, 426.0, 423.0, 421.0, 421.0, 421.0, 420.0, 421.0, 229.0, 228.0, 228.0, 228.0, 228.0, 230.0, 229.0, 234.0, 216.0, 216.0, 208.0, 237.0, 221.0, 235.0, 581.0, 582.0, 98.0, 98.0, 97.0, 97.0, 427.8560213568049, 426.9223434652697, 426.92123434804574, 427.16684457570824, 423.45671067075136, 421.15342185768196, 421.10846255323315, 421.1174177233834, 420.90283401728885, 421.9857229456243, 14.068574303812774, 13.922026371477333, 13.4286163590117, 11.506690848924396, 10.867254846984828, 10.867254846984828, 10.618188047775025, 8.857136149627943, 8.659910721823616, 8.181368421559279, 7.944034188146575, 7.708280569877394, 7.708280569877394, 7.708280569877394, 7.708280569877394, 7.708280569877394, 7.6913290716815315, 7.371929976349398, 7.298927675958995, 9.620439321206158, 14.940168341548858, 9.560533737377575, 583.1302050148128, 17.199339755756295, 14.351720671398828, 14.252769693222781, 9.537044361998808, 17.868912719498926, 10.48264413879934, 61.25473055462453, 582.4551225922015, 581.4025384766, 229.4694390788369, 228.8075015747626, 228.44872183446083, 228.44204206200777, 228.13866698292512, 216.55696045909374, 216.2586983508482, 208.17444209659635, 230.61736344806394, 229.47861105331313, 48.35653535328534, 48.04730129228215, 47.62179220678351, 38.00234167672017, 38.00234167672017, 27.709373694647624, 26.687478613957182, 26.44447883823241, 234.96470548874592, 19.837115901213878, 27.324940732576728, 221.75737935066041, 15.736153999436699, 15.24188501829928, 237.8015852640166, 22.576848305361445, 49.81206807023361, 235.64680643104396, 5.132077417441753, 5.132077417441753, 7.981544264412714, 13.861287400185484, 581.4025384766, 582.4551225922015, 583.1302050148128, 74.03212152859037, 68.59292525026315, 91.93228479903475, 67.53802440443161, 124.42766538636344, 124.6543755920916, 39.63460242006433, 38.44041090844591, 29.668198928570657, 24.62474311606951, 22.604095836688174, 22.50546247453936, 22.50546247453936, 22.50546247453936, 22.50546247453936, 22.306947441690774, 22.306947441690774, 40.190799349084834, 15.732123778905958, 15.395574477079787, 15.377955080894928, 15.24703859829516, 15.065515142000727, 14.705324088106286, 14.543454536074732, 14.520775259835524, 14.452456938309876, 13.812348118654738, 13.780355284518738, 13.691610173506994, 13.70322254916763, 40.2913537055548, 12.877182067026231, 12.83721313821302, 11.652079436211428, 45.56981005197627, 42.714146337909156, 28.61220492830403, 58.95530615287336, 23.556151480458162, 26.58286540947821, 27.480749173783238, 16.764281353937495, 67.53802440443161, 68.59292525026315, 91.93228479903475, 26.831835368108358, 74.03212152859037, 583.1302050148128, 582.4551225922015, 581.4025384766, 30.812795022277562, 34.266444599094186, 98.18238129143253, 98.25386096159944, 97.74489249645373, 97.64107673970508, 97.58824471952052, 97.41523413143699, 97.26967178767248, 66.85618076867755, 34.79589871662266, 33.492113030039235, 33.42399768823476, 21.36058353428873, 21.181719133578937, 20.674064421921983, 33.94530806365872, 33.85036430138951, 15.848925445033782, 36.36892122209643, 30.075093920669108, 14.601561034248345, 13.79954964041082, 13.79954964041082, 13.635896702347303, 11.228939365044434, 14.423010131463464, 7.4987057736078, 7.247373182415636, 6.964015464417238, 6.458191276638928, 6.331221213704398, 105.1283579819962, 41.88086257182585, 42.92461748123162, 15.908704019302995, 39.0991589628484, 159.13605694818108, 124.6543755920916, 124.42766538636344, 49.60613465502107, 21.66729563983633, 21.349495457714553, 35.99785126084963, 583.1302050148128, 28.302631917931954, 61.25473055462453, 582.4551225922015, 581.4025384766, 61.904095983613914, 43.739872534631715, 41.88022171897249, 41.750552692733635, 41.717686893500904, 41.49606075951393, 41.30961578237135, 41.081114083427764, 23.140198145085982, 16.072038224209415, 15.063389361610547, 14.657609263687048, 14.20683737284562, 14.129980614475766, 14.002689988093246, 13.955491931307883, 13.898014544257741, 13.798631905725422, 13.68461790262319, 13.68461790262319, 13.68461790262319, 13.68461790262319, 12.805303159618285, 12.071289739154148, 11.0326851538933, 10.877759607251159, 10.683952115801107, 45.210052502020076, 10.367790873060468, 10.294613871812862, 10.145856331716853, 45.2104958237534, 14.62530489866877, 61.904095983613914, 17.83811531206728, 65.42135857290025, 24.139395770256883, 33.168271999618, 583.1302050148128, 582.4551225922015, 581.4025384766, 36.41506377016721, 159.13605694818108, 24.781171952482723, 14.218377157834055, 13.950025125725215, 11.39713617789987, 10.137011058008138, 9.665954715301462, 8.918030336764083, 8.896149631375392, 8.749337743987851, 8.547504640095331, 8.547504640095331, 8.535289367071032, 7.966528387971326, 7.866451365894694, 7.800924433584988, 7.534445433820267, 7.473835083414279, 7.334715014707611, 7.334715014707611, 7.324076921269578, 7.075633866436682, 6.817851089403558, 6.78309425617973, 6.528477199103296, 6.2624779423442245, 6.1081610614637345, 5.859635821865343, 12.363906689653032, 5.504513388930034, 8.910291238525065, 5.200970226846642, 10.629322375345001, 9.251124616021213, 13.003917725840097, 18.65082190331148, 11.092548761455031, 9.270582498341104, 18.789121875420854, 11.83958813261357, 36.990462949511894, 21.150421400376437, 9.225418032779537, 582.4551225922015, 581.4025384766, 18.495152720544347, 583.1302050148128, 36.41506377016721, 26.95477982074968, 21.46774118591587, 22.452565189611178, 34.266444599094186, 20.489627234004494, 159.13605694818108, 23.19518409858381], \"loglift\": [30.0, 29.0, 28.0, 27.0, 26.0, 25.0, 24.0, 23.0, 22.0, 21.0, 20.0, 19.0, 18.0, 17.0, 16.0, 15.0, 14.0, 13.0, 12.0, 11.0, 10.0, 9.0, 8.0, 7.0, 6.0, 5.0, 4.0, 3.0, 2.0, 1.0, 1.513, 1.513, 1.513, 1.513, 1.513, 1.513, 1.513, 1.513, 1.513, 1.5049, 1.4677, 1.4672, 1.4655, 1.4568, 1.4535, 1.4535, 1.4521, 1.4391, 1.4374, 1.4327, 1.4301, 1.4274, 1.4274, 1.4274, 1.4274, 1.4274, 1.4272, 1.4232, 1.4223, 1.42, 1.3992, 1.3935, 0.4012, 1.2004, 1.2337, 1.2324, 1.3535, 0.9733, 1.241, -0.1076, -2.0661, -2.0837, 1.544, 1.544, 1.544, 1.544, 1.544, 1.5438, 1.5438, 1.5437, 1.542, 1.5393, 1.5334, 1.5333, 1.5331, 1.5297, 1.5297, 1.5232, 1.5223, 1.5221, 1.5164, 1.5137, 1.5071, 1.507, 1.505, 1.5036, 1.4894, 1.4894, 1.482, 1.4733, 1.4127, 1.4127, 1.4063, 1.3895, 1.1045, 1.0694, 0.3569, 0.9683, 0.8244, 0.6397, 0.8249, 0.2628, 0.2604, 1.8101, 1.8096, 1.8045, 1.8, 1.7976, 1.7975, 1.7975, 1.7975, 1.7975, 1.7972, 1.7972, 1.7882, 1.7847, 1.7838, 1.7837, 1.7834, 1.7829, 1.7818, 1.7812, 1.7812, 1.781, 1.7788, 1.7787, 1.7784, 1.7783, 1.7783, 1.7753, 1.7751, 1.7697, 1.7664, 1.7519, 1.7575, 1.7201, 1.7471, 1.6765, 1.6678, 1.7266, 1.1463, 1.1292, 1.0051, 1.5067, 0.9729, -0.3199, -0.4152, -0.4163, 1.3397, 1.2652, 1.8482, 1.8482, 1.8481, 1.8481, 1.8481, 1.8481, 1.8481, 1.8451, 1.8361, 1.8354, 1.8353, 1.8242, 1.8239, 1.8232, 1.8166, 1.8143, 1.8133, 1.8122, 1.8098, 1.8097, 1.8071, 1.8071, 1.8065, 1.7959, 1.7869, 1.765, 1.7619, 1.7577, 1.75, 1.7478, 1.7405, 1.7426, 1.7263, 1.7392, 1.6437, 1.5207, 1.5257, 1.5247, 1.4023, 1.6519, 1.6478, 1.4447, -0.2644, 1.4803, 1.003, -0.5172, -0.6774, 0.8744, 1.974, 1.9733, 1.9733, 1.9732, 1.9732, 1.9731, 1.973, 1.9534, 1.9477, 1.9451, 1.9439, 1.9424, 1.9421, 1.9418, 1.9416, 1.9413, 1.9411, 1.9407, 1.9407, 1.9407, 1.9407, 1.9372, 1.9341, 1.9287, 1.9279, 1.9267, 1.9261, 1.9248, 1.9242, 1.9232, 1.8804, 1.8878, 1.5051, 1.7913, 1.4145, 1.6771, 1.5252, -0.5458, -0.5481, -0.552, 1.1717, -0.0609, 1.3807, 2.1357, 2.1347, 2.1239, 2.1165, 2.1131, 2.1072, 2.107, 2.1057, 2.1039, 2.1039, 2.1037, 2.0978, 2.0967, 2.096, 2.0928, 2.092, 2.0903, 2.0903, 2.0902, 2.0868, 2.0829, 2.0825, 2.0784, 2.0738, 2.0709, 2.0659, 2.0654, 2.0579, 2.0537, 2.0495, 2.0342, 2.0293, 1.9787, 1.9386, 1.9806, 2.0098, 1.8, 1.9099, 1.4487, 1.6435, 1.9801, -0.4351, -0.5425, 1.5112, -0.7952, 1.0228, 1.2083, 1.359, 1.2598, 0.8838, 1.2817, -0.6861, 1.1546], \"logprob\": [30.0, 29.0, 28.0, 27.0, 26.0, 25.0, 24.0, 23.0, 22.0, 21.0, 20.0, 19.0, 18.0, 17.0, 16.0, 15.0, 14.0, 13.0, 12.0, 11.0, 10.0, 9.0, 8.0, 7.0, 6.0, 5.0, 4.0, 3.0, 2.0, 1.0, -2.7921, -2.7943, -2.7943, -2.7937, -2.8025, -2.8079, -2.808, -2.808, -2.8085, -2.8141, -6.2522, -6.2633, -6.3011, -6.4642, -6.5247, -6.5247, -6.5493, -6.7436, -6.7679, -6.8294, -6.8614, -6.8942, -6.8942, -6.8942, -6.8942, -6.8942, -6.8966, -6.943, -6.9539, -6.68, -6.2607, -6.7128, -3.5943, -6.3186, -6.4664, -6.4745, -6.7553, -6.5076, -6.7732, -6.3565, -6.0628, -6.0822, -3.3842, -3.3871, -3.3887, -3.3887, -3.39, -3.4423, -3.4437, -3.4819, -3.3811, -3.3888, -4.952, -4.9585, -4.9675, -5.1966, -5.1966, -5.5189, -5.5574, -5.5668, -3.3881, -5.8626, -5.5491, -3.4553, -6.103, -6.1363, -3.4031, -5.7576, -4.9737, -3.4283, -7.3157, -7.3157, -6.8805, -6.3453, -2.894, -2.9272, -3.6386, -5.0911, -5.3113, -5.2031, -5.3264, -5.2774, -5.278, -4.8741, -4.9052, -5.1693, -5.3602, -5.4482, -5.4527, -5.4527, -5.4527, -5.4527, -5.4618, -5.4618, -4.8821, -5.8235, -5.846, -5.8473, -5.8562, -5.8686, -5.8939, -5.9056, -5.9072, -5.9121, -5.9596, -5.962, -5.9687, -5.968, -4.8895, -6.0332, -6.0365, -6.1387, -4.7782, -4.8575, -5.2526, -4.567, -5.4575, -5.4072, -5.3827, -5.8181, -5.005, -5.0065, -4.8378, -5.5676, -5.0865, -4.3154, -4.4119, -4.4148, -5.5963, -5.5646, -3.9289, -3.9282, -3.9334, -3.9345, -3.9351, -3.9368, -3.9383, -4.3163, -4.9783, -5.0173, -5.0193, -5.4782, -5.4869, -5.5119, -5.0226, -5.0277, -5.7875, -4.958, -5.1505, -5.8731, -5.9322, -5.9322, -5.9448, -6.1496, -5.9082, -6.5842, -6.6214, -6.6655, -6.7486, -6.7706, -3.9682, -4.8865, -4.8782, -5.8579, -5.0542, -3.7735, -4.0127, -4.0155, -5.0576, -5.6362, -5.6551, -5.3358, -4.2599, -5.5407, -5.2459, -4.5139, -4.6759, -5.364, -4.6117, -4.6558, -4.659, -4.6598, -4.6652, -4.6697, -4.6754, -5.2689, -5.6391, -5.7065, -5.7351, -5.7678, -5.7735, -5.7829, -5.7865, -5.7909, -5.7983, -5.807, -5.807, -5.807, -5.807, -5.8769, -5.939, -6.0344, -6.0493, -6.0685, -4.6265, -6.1004, -6.1081, -6.1237, -4.6722, -5.7933, -4.7332, -5.6913, -4.7686, -5.503, -5.3371, -4.5413, -4.5447, -4.5505, -5.5972, -5.355, -5.7732, -5.5737, -5.5938, -5.8067, -5.9313, -5.9822, -6.0687, -6.0713, -6.0892, -6.1144, -6.1144, -6.116, -6.1908, -6.2047, -6.2136, -6.2517, -6.2605, -6.281, -6.281, -6.2826, -6.3205, -6.3615, -6.367, -6.4094, -6.4556, -6.4834, -6.53, -5.7838, -6.6005, -6.123, -6.6656, -5.9662, -6.1099, -5.8199, -5.4995, -5.9771, -6.1273, -5.6306, -5.9826, -5.3046, -5.6688, -6.1618, -4.4318, -4.541, -5.9353, -4.7907, -5.7461, -5.8615, -5.9384, -5.9928, -5.9459, -6.0623, -5.9803, -6.0654]}, \"token.table\": {\"Topic\": [1, 2, 3, 4, 5, 6, 6, 5, 1, 2, 1, 5, 4, 4, 3, 4, 4, 5, 3, 3, 6, 2, 6, 1, 6, 6, 5, 2, 4, 1, 1, 6, 2, 4, 6, 1, 6, 1, 4, 5, 1, 6, 4, 2, 3, 4, 1, 1, 3, 4, 5, 6, 1, 6, 3, 5, 3, 2, 5, 2, 6, 1, 4, 2, 6, 5, 3, 5, 6, 6, 2, 3, 4, 5, 6, 3, 5, 3, 5, 3, 4, 5, 6, 6, 4, 2, 3, 4, 1, 4, 5, 3, 6, 2, 4, 5, 6, 3, 3, 2, 2, 3, 5, 4, 3, 6, 4, 1, 1, 6, 6, 6, 2, 1, 3, 6, 4, 5, 6, 5, 6, 2, 1, 4, 6, 3, 4, 6, 2, 4, 2, 4, 6, 3, 5, 2, 4, 3, 4, 5, 2, 3, 3, 1, 2, 3, 4, 5, 6, 3, 4, 5, 6, 3, 4, 5, 6, 1, 4, 5, 6, 6, 2, 4, 6, 3, 6, 5, 3, 4, 5, 1, 2, 4, 5, 2, 4, 6, 4, 3, 6, 6, 1, 2, 4, 6, 2, 3, 3, 5, 5, 1, 5, 4, 3, 4, 3, 3, 5, 6, 2, 2, 3, 1, 1, 3, 4, 5, 3, 2, 5, 3, 4, 5, 6, 2, 6, 2, 6, 5, 6, 6, 3, 3, 5, 6, 4, 4, 5, 2, 2, 4, 1, 2, 1, 6, 2, 3, 1, 2, 5, 3, 2, 3, 4, 5, 6, 2, 3, 1, 1, 3, 4, 5, 6, 1, 5, 4, 6, 4, 6, 5, 5, 4, 5, 5, 3, 4, 5, 6, 3, 6, 6, 1, 2, 4, 2, 3, 6, 1, 1, 1, 2, 2, 3, 4, 1, 3, 4, 5, 6, 1, 2, 3, 5, 6, 6, 4, 5, 5, 6, 5, 5, 5, 1, 5, 3, 4, 6, 4, 5, 4, 6, 5, 1, 1, 3, 1, 5, 5, 6, 3, 3, 3, 1, 3, 2, 3, 3, 4, 6, 3, 5, 6, 3, 3, 4, 6, 1, 3, 5, 2, 6, 5, 2, 4, 5, 2, 5, 1, 2, 3, 5, 6, 1, 1, 4, 5, 3, 3, 4, 5, 1, 2, 3, 5, 3, 6, 4, 5, 3, 4, 5, 6, 3, 1, 2, 3, 4, 5, 4, 4, 5, 1, 3, 4, 5, 6, 1, 2, 3, 4, 5, 6, 2, 3, 5, 1, 3, 4, 5, 6, 3, 5, 6, 3, 4, 5, 6, 1, 3, 4, 5, 6, 1, 2, 3, 4, 5, 6], \"Freq\": [0.32925751118504104, 0.3035342681237097, 0.1166120352113687, 0.12004180095287956, 0.07888461205474942, 0.051446486122662664, 0.8878356695576543, 0.949971719525179, 0.9032264904650983, 0.7794114692045949, 0.9973465411869584, 0.9645256277288413, 0.9420597293936748, 0.9420597293936748, 0.9433719038147433, 0.9013375073238561, 0.953365978327055, 0.949971719525179, 0.9318808989062619, 0.943130386675519, 0.024819220701987343, 0.9869431162085719, 0.8479805644637778, 0.09015060663738998, 0.8113554597365099, 0.9557518408458494, 0.9315329093369813, 0.983191998566075, 0.9588015943749187, 0.977831529859804, 0.9081143241405573, 0.9359456750070597, 0.9293569614493579, 0.05092366912051276, 0.016974556373504254, 0.9905548393490605, 0.00947899367798144, 0.9237970525307388, 0.9748787252681176, 0.029541779553579322, 0.09407937445942244, 0.846714370134802, 0.9796116661064962, 0.9988037551653599, 0.9686934242225261, 0.9771266515314219, 0.9979992770603291, 0.949547814813404, 0.08622479526351812, 0.4311239763175906, 0.12933719289527718, 0.34489918105407247, 0.9355082132435953, 0.9290663873652502, 0.9347823293732769, 0.935385407649557, 0.9520361412043442, 0.9991620388418507, 0.9880455939567662, 0.9301564025220038, 0.04429316202485733, 0.9973677504685791, 0.998142423426346, 0.9743995045696523, 0.8992654498284509, 0.9820229279775675, 0.936457905153068, 0.0234114476288267, 0.0468228952576534, 0.8532953500868441, 0.006283930990734717, 0.09425896486102077, 0.7163681329437578, 0.12567861981469436, 0.05655537891661246, 0.9703713444775776, 0.024881316525066092, 0.9440375050838611, 0.9063976593650116, 0.0828521152324898, 0.0828521152324898, 0.7456690370924082, 0.0414260576162449, 0.9318979631102402, 0.9290526933916725, 0.9515116703987161, 0.03659660270764293, 0.997227586125086, 0.7664586185767686, 0.13935611246850338, 0.06967805623425169, 0.9292745630031457, 0.8185769742623357, 0.04728038184535661, 0.23640190922678303, 0.09456076369071321, 0.5673645821442793, 0.9486819580836228, 0.9494865713570163, 0.9926269458578754, 0.9964708256101527, 0.06837464291708698, 0.8888703579221306, 0.9673956505036702, 0.8652189914710727, 0.11285465106144427, 0.9974162749523028, 0.9417802693836673, 0.8388343071860611, 0.10485428839825764, 0.9190504641456229, 0.8898548626829084, 0.9979542413982386, 0.08481000822953592, 0.8989860872330808, 0.016962001645907186, 0.08446239757659978, 0.16892479515319955, 0.760161578189398, 0.21446776022722056, 0.804254100852077, 0.9532189377745636, 0.9989214702253084, 0.9642530153520069, 0.03325010397765541, 0.1083961720159264, 0.1083961720159264, 0.8671693761274112, 0.13845751910470824, 0.8307451146282494, 0.2727541639714174, 0.7219963163949283, 0.9613590891543152, 0.9862398276369674, 0.9200295707894933, 0.2732511286330556, 0.715275013186528, 0.027496003906556248, 0.9623601367294687, 0.9736834283210473, 0.9974281110248638, 0.9775404537848891, 0.9743059619068649, 0.0274699275178359, 0.6197902396211725, 0.10644596913161412, 0.09271100537269616, 0.07897604161377822, 0.07382543020418399, 0.4392466440318465, 0.048805182670205165, 0.048805182670205165, 0.3904414613616413, 0.24190556437126823, 0.6450815049900486, 0.08063518812375607, 0.040317594061878036, 0.04775450831677575, 0.8834584038603515, 0.04775450831677575, 0.023877254158387876, 0.9143549185190888, 0.14051854321062945, 0.7962717448602337, 0.9580872068914671, 0.15379980419483877, 0.8458989230716133, 0.9713817462722396, 0.01902436258295322, 0.8941450413988014, 0.0856096316232895, 0.9337721142831384, 0.9461669473321476, 0.008410372865174645, 0.046257050758460545, 0.9950088821067306, 0.9934343540535292, 0.9372851529631594, 0.8615718949300311, 0.1080949659102189, 0.8647597272817512, 0.9359456750070597, 0.02007545638518819, 0.9435464501038449, 0.02007545638518819, 0.02007545638518819, 0.4886136408490304, 0.5034201148141526, 0.8947594998742304, 0.059650633324948694, 0.949971719525179, 0.9081143241405573, 0.9551352985431111, 0.9658671940592435, 0.02945915229653147, 0.9721520257855385, 0.9839886770317878, 0.15074647241368452, 0.633135184137475, 0.21104506137915835, 0.9782027030839633, 0.9742396565857053, 0.9862398276369674, 0.9201955913249378, 0.8367733663993507, 0.10459667079991884, 0.8800214010527163, 0.06285867150376545, 0.9411868198168569, 0.9980357875025189, 0.9294057043814705, 0.5836613700076922, 0.11673227400153846, 0.029183068500384615, 0.2626476165034615, 0.9980649706244187, 0.8845520603718144, 0.9935566498048499, 0.0043577046044072365, 0.950726517640986, 0.9366008109456683, 0.9543656414684908, 0.9774776038754689, 0.05605973403050666, 0.8408960104575999, 0.05605973403050666, 0.9939721764520799, 0.08847503056797748, 0.9068690633217692, 0.9578005237564472, 0.7794114692045949, 0.9831192095613911, 0.9081143241405573, 0.9736242128117543, 0.8811643850230171, 0.9083455060814919, 0.8657204524768329, 0.14428674207947215, 0.7631662292521839, 0.09539577865652299, 0.09539577865652299, 0.9746294565135253, 0.0917131672420726, 0.19871186235782395, 0.061142111494715067, 0.5655645313261143, 0.07642763936839383, 0.9605091863174819, 0.03607546239690073, 0.9201955913249378, 0.7717798180118297, 0.07016180163743907, 0.07016180163743907, 0.07016180163743907, 0.07016180163743907, 0.8701374511187255, 0.06693365008605581, 0.9957374825904874, 0.8786763391905201, 0.992379218213568, 0.9311030586303868, 0.9193069493219872, 0.9827965798934861, 0.6667064605075972, 0.3333532302537986, 0.928393045268741, 0.08110198577656856, 0.16220397155313712, 0.27033995258856186, 0.4866119146594114, 0.08088058451920127, 0.8896864297112139, 0.8970590699854929, 0.9996094159042845, 0.8770232636823023, 0.12528903766890034, 0.5673213077350495, 0.43224480589337105, 0.013507650184167845, 0.997842144466174, 0.9978395521354465, 0.9680818672934934, 0.9736242128117543, 0.04388870609113421, 0.9436071809593856, 0.9464364036553791, 0.10984465179701189, 0.10984465179701189, 0.027461162949252972, 0.43937860718804755, 0.3020727924417827, 0.04453834078890464, 0.1336150223667139, 0.3563067263112371, 0.04453834078890464, 0.4008450671001418, 0.9543656414684908, 0.9871936931061029, 0.9332979296555806, 0.9289969304530968, 0.044237949069195086, 0.949971719525179, 0.9359832290160145, 0.9789824006931239, 0.9101157855503914, 0.9925049948660264, 0.09318661958371467, 0.8852728860452894, 0.023296654895928668, 0.9914209449935127, 0.9854409980618938, 0.9873145728350738, 0.9651547396029228, 0.9830847121457451, 0.9081143241405573, 0.9240453026200973, 0.9626323625706187, 0.9081143241405573, 0.9112530837794955, 0.9371117458462194, 0.8800426881316491, 0.9885430228752017, 0.9732749391502897, 0.9837976013045062, 0.9590449872597594, 0.9641358501514731, 0.14555643933521356, 0.836949526177478, 0.10644457006882885, 0.15966685510324327, 0.6918897054473875, 0.7081140644811394, 0.11180748386544308, 0.1490766451539241, 0.9775404537848891, 0.9775404537848891, 0.9476844667838418, 0.9846412037456937, 0.7558429674981648, 0.23256706692251225, 0.05814176673062806, 0.984130242551438, 0.8973295485164807, 0.9856240491735633, 0.0767279931225776, 0.8184319266408276, 0.10230399083010346, 0.9973229966779887, 0.004336186942078212, 0.9996357102905511, 0.04035321662419659, 0.2421192997451795, 0.5245918161145556, 0.16141286649678635, 0.9978550060861511, 0.9559655459960706, 0.9334944204154497, 0.9421223849449851, 0.9534631312850711, 0.9436532440493884, 0.03495012014997735, 0.03495012014997735, 0.029791708441654775, 0.9703585035281841, 0.9339386367187729, 0.042451756214489676, 0.10786808705698286, 0.8629446964558629, 0.37154245829045185, 0.6138527571755291, 0.6166269559857538, 0.1298162012601587, 0.09736215094511902, 0.16227025157519837, 0.9775404537848891, 0.19590323704548626, 0.22855377655306733, 0.08162634876895261, 0.4244570135985536, 0.06530107901516209, 0.985306599509029, 0.671315659091125, 0.2826592248804737, 0.5596311402365178, 0.11192622804730355, 0.16788934207095535, 0.055963114023651776, 0.055963114023651776, 0.0275196596869416, 0.6432720451822599, 0.1066386812868987, 0.0791190215999571, 0.0791190215999571, 0.0653591917564863, 0.4810991786630852, 0.49567794165287565, 0.014578762989790462, 0.10813644148925612, 0.1622046622338842, 0.10813644148925612, 0.1622046622338842, 0.48661398670165257, 0.9754222795614427, 0.11222977714536878, 0.8978382171629502, 0.22259502915253734, 0.14839668610169157, 0.22259502915253734, 0.3709917152542289, 0.04658151928233885, 0.13974455784701656, 0.13974455784701656, 0.23290759641169426, 0.4192336735410497, 0.010877571488471257, 0.40247014507343654, 0.4351028595388503, 0.05438785744235629, 0.05438785744235629, 0.03263271446541378], \"Term\": [\"\", \"\", \"\", \"\", \"\", \"\", \"100\", \"10000th\", \"16\", \"17\", \"1776stonewall\", \"1968\", \"1975\", \"1985\", \"200\", \"2004\", \"2012\", \"33m\", \"3week\", \"50\", \"50\", \"60\", \"71\", \"90\", \"90\", \"abo\", \"absorb\", \"accounting\", \"acid\", \"almonitor\", \"amegrow\", \"amid\", \"another\", \"another\", \"another\", \"arctic\", \"arctic\", \"arose\", \"authority\", \"authority\", \"average\", \"average\", \"aviation\", \"awful\", \"ball\", \"barrier\", \"bears\", \"beef\", \"believe\", \"believe\", \"believe\", \"believe\", \"billion\", \"blackouts\", \"blaw\", \"blow\", \"books\", \"breitbartnews\", \"britains\", \"business\", \"business\", \"canadian\", \"cars\", \"case\", \"catastrophe\", \"categorically\", \"causing\", \"causing\", \"causing\", \"cclimateaction\", \"climate\", \"climate\", \"climate\", \"climate\", \"climate\", \"climatecosts\", \"climatecosts\", \"climatereality\", \"club\", \"co2\", \"co2\", \"co2\", \"co2\", \"cold\", \"collide\", \"comes\", \"comes\", \"compani\", \"concern\", \"concern\", \"concern\", \"cooked\", \"corals\", \"could\", \"could\", \"could\", \"could\", \"court\", \"co\\u2082\", \"dangers\", \"dbongino\", \"death\", \"death\", \"debunked\", \"democrats\", \"democrats\", \"drive\", \"eclipses\", \"effort\", \"effort\", \"everyth\", \"everywhere\", \"existential\", \"exxon\", \"exxon\", \"exxon\", \"fact\", \"fact\", \"fact\", \"fast\", \"fast\", \"fate\", \"fired\", \"fires\", \"fires\", \"forests\", \"forests\", \"forests\", \"forum\", \"forum\", \"fossil\", \"fossil\", \"fossilfuel\", \"foxnew\", \"free\", \"fuel\", \"fuel\", \"future\", \"future\", \"gamechanger\", \"gang\", \"gasrich\", \"giant\", \"global\", \"global\", \"global\", \"global\", \"global\", \"global\", \"going\", \"going\", \"going\", \"going\", \"good\", \"good\", \"good\", \"good\", \"great\", \"great\", \"great\", \"great\", \"greening\", \"gwpf\", \"gwpf\", \"halt\", \"happening\", \"happening\", \"harvard\", \"heat\", \"heat\", \"heat\", \"heretical\", \"hoax\", \"hoax\", \"hoax\", \"hoaxes\", \"homes\", \"humanprogress\", \"hysteria\", \"ignored\", \"ignored\", \"imminent\", \"industry\", \"industry\", \"industry\", \"industry\", \"instead\", \"instead\", \"interesting\", \"interesting\", \"ir\", \"izi\", \"jaggermickoz\", \"junk\", \"killed\", \"killed\", \"knew\", \"know\", \"know\", \"know\", \"known\", \"landmark\", \"larryschweikart\", \"laureate\", \"lawsuit\", \"lawsuit\", \"layer\", \"layer\", \"leave\", \"liberal\", \"lie\", \"like\", \"like\", \"like\", \"like\", \"line\", \"locking\", \"long\", \"long\", \"made\", \"manage\", \"mandatory\", \"may\", \"mean\", \"mean\", \"mean\", \"mess\", \"methane\", \"methane\", \"mgrant76308\", \"mines\", \"mrsdriscoll\", \"muthungu9\", \"mzjacobson\", \"na\", \"nairashalaby\", \"naomioreskes\", \"naomioreskes\", \"national\", \"national\", \"national\", \"natural\", \"new\", \"new\", \"new\", \"new\", \"new\", \"news\", \"news\", \"nobel\", \"nuclear\", \"nuclear\", \"nuclear\", \"nuclear\", \"nuclear\", \"ny\", \"ny\", \"nytclimate\", \"nytimes\", \"nytopinion\", \"often\", \"origins\", \"oxford\", \"ozone\", \"ozone\", \"path\", \"people\", \"people\", \"people\", \"people\", \"percent\", \"percent\", \"planetary\", \"polar\", \"potential\", \"potential\", \"products\", \"products\", \"products\", \"professor\", \"proved\", \"psychometalhed\", \"pu\", \"public\", \"public\", \"rain\", \"real\", \"real\", \"real\", \"real\", \"real\", \"really\", \"really\", \"really\", \"really\", \"really\", \"recommends\", \"reef\", \"report\", \"research\", \"research\", \"retention\", \"rome\", \"ruminants\", \"safetypindaily\", \"sarahvetwales\", \"says\", \"says\", \"says\", \"scare\", \"second\", \"shape\", \"shit\", \"shows\", \"siku\", \"sin\", \"single\", \"sistako\", \"size\", \"smallest\", \"solution\", \"sp\", \"speech\", \"square\", \"squares\", \"starting\", \"state\", \"state\", \"still\", \"still\", \"still\", \"stop\", \"stop\", \"stop\", \"stuart\", \"tables\", \"tale\", \"talk\", \"telling\", \"telling\", \"telling\", \"theafrosmash\", \"theeconomist\", \"theglobal\", \"thegwpfcom\", \"thegwpfcom\", \"thegwpfcom\", \"threat\", \"threat\", \"thriving\", \"time\", \"time\", \"time\", \"time\", \"told\", \"top\", \"topics\", \"trap\", \"trial\", \"trump\", \"trump\", \"trump\", \"truth\", \"truth\", \"turn\", \"turn\", \"twice\", \"twice\", \"university\", \"university\", \"us\", \"us\", \"us\", \"us\", \"varney\", \"via\", \"via\", \"via\", \"via\", \"via\", \"vibrant\", \"wa\", \"wa\", \"war\", \"war\", \"war\", \"war\", \"war\", \"warming\", \"warming\", \"warming\", \"warming\", \"warming\", \"warming\", \"warning\", \"warning\", \"warning\", \"weather\", \"weather\", \"weather\", \"weather\", \"weather\", \"whether\", \"wont\", \"wont\", \"world\", \"world\", \"world\", \"world\", \"would\", \"would\", \"would\", \"would\", \"would\", \"years\", \"years\", \"years\", \"years\", \"years\", \"years\"]}, \"R\": 30, \"lambda.step\": 0.01, \"plot.opts\": {\"xlab\": \"PC1\", \"ylab\": \"PC2\"}, \"topic.order\": [3, 1, 2, 4, 6, 5]};\n",
       "\n",
       "function LDAvis_load_lib(url, callback){\n",
       "  var s = document.createElement('script');\n",
       "  s.src = url;\n",
       "  s.async = true;\n",
       "  s.onreadystatechange = s.onload = callback;\n",
       "  s.onerror = function(){console.warn(\"failed to load library \" + url);};\n",
       "  document.getElementsByTagName(\"head\")[0].appendChild(s);\n",
       "}\n",
       "\n",
       "if(typeof(LDAvis) !== \"undefined\"){\n",
       "   // already loaded: just create the visualization\n",
       "   !function(LDAvis){\n",
       "       new LDAvis(\"#\" + \"ldavis_el15331122906106565317495769\", ldavis_el15331122906106565317495769_data);\n",
       "   }(LDAvis);\n",
       "}else if(typeof define === \"function\" && define.amd){\n",
       "   // require.js is available: use it to load d3/LDAvis\n",
       "   require.config({paths: {d3: \"https://cdnjs.cloudflare.com/ajax/libs/d3/3.5.5/d3.min\"}});\n",
       "   require([\"d3\"], function(d3){\n",
       "      window.d3 = d3;\n",
       "      LDAvis_load_lib(\"https://cdn.rawgit.com/bmabey/pyLDAvis/files/ldavis.v1.0.0.js\", function(){\n",
       "        new LDAvis(\"#\" + \"ldavis_el15331122906106565317495769\", ldavis_el15331122906106565317495769_data);\n",
       "      });\n",
       "    });\n",
       "}else{\n",
       "    // require.js not available: dynamically load d3 & LDAvis\n",
       "    LDAvis_load_lib(\"https://cdnjs.cloudflare.com/ajax/libs/d3/3.5.5/d3.min.js\", function(){\n",
       "         LDAvis_load_lib(\"https://cdn.rawgit.com/bmabey/pyLDAvis/files/ldavis.v1.0.0.js\", function(){\n",
       "                 new LDAvis(\"#\" + \"ldavis_el15331122906106565317495769\", ldavis_el15331122906106565317495769_data);\n",
       "            })\n",
       "         });\n",
       "}\n",
       "</script>"
      ],
      "text/plain": [
       "PreparedData(topic_coordinates=               x          y  topics  cluster       Freq\n",
       "topic                                                  \n",
       "2     -11.721328 -40.083977       1        1  21.990837\n",
       "0     -48.441170  19.511503       2        1  21.293213\n",
       "1      10.931973  14.984368       3        1  16.097929\n",
       "3      61.626476  46.222164       4        1  15.649612\n",
       "5      -3.111373  72.850372       5        1  13.686361\n",
       "4      56.305714 -23.576836       6        1  11.282048, topic_info=     Category        Freq            Term       Total  loglift  logprob\n",
       "985   Default  427.000000           bears  427.000000  30.0000  30.0000\n",
       "6495  Default  427.000000           polar  427.000000  29.0000  29.0000\n",
       "6733  Default  426.000000          proved  426.000000  28.0000  28.0000\n",
       "6669  Default  426.000000       professor  426.000000  27.0000  27.0000\n",
       "3278  Default  423.000000           fired  423.000000  26.0000  26.0000\n",
       "8502  Default  421.000000        thriving  421.000000  25.0000  25.0000\n",
       "53    Default  421.000000   1776stonewall  421.000000  24.0000  24.0000\n",
       "1427  Default  421.000000        canadian  421.000000  23.0000  23.0000\n",
       "8559  Default  420.000000            told  420.000000  22.0000  22.0000\n",
       "727   Default  421.000000          arctic  421.000000  21.0000  21.0000\n",
       "3044  Default  229.000000     existential  229.000000  20.0000  20.0000\n",
       "2296  Default  228.000000        dbongino  228.000000  19.0000  19.0000\n",
       "5010  Default  228.000000         liberal  228.000000  18.0000  18.0000\n",
       "5054  Default  228.000000            line  228.000000  17.0000  17.0000\n",
       "4051  Default  228.000000          hoaxes  228.000000  16.0000  16.0000\n",
       "8495  Default  230.000000          threat  230.000000  15.0000  15.0000\n",
       "5115  Default  229.000000            long  229.000000  14.0000  14.0000\n",
       "8699  Default  234.000000           truth  234.000000  13.0000  13.0000\n",
       "3527  Default  216.000000            gang  216.000000  12.0000  12.0000\n",
       "870   Default  216.000000           awful  216.000000  11.0000  11.0000\n",
       "1271  Default  208.000000   breitbartnews  208.000000  10.0000  10.0000\n",
       "4049  Default  237.000000            hoax  237.000000   9.0000   9.0000\n",
       "5849  Default  221.000000            news  221.000000   8.0000   8.0000\n",
       "652   Default  235.000000         another  235.000000   7.0000   7.0000\n",
       "9063  Default  581.000000         warming  581.000000   6.0000   6.0000\n",
       "3651  Default  582.000000          global  582.000000   5.0000   5.0000\n",
       "2642  Default   98.000000           drive   98.000000   4.0000   4.0000\n",
       "1491  Default   98.000000            cars   98.000000   3.0000   3.0000\n",
       "5992  Default   97.000000      nytopinion   97.000000   2.0000   2.0000\n",
       "4079  Default   97.000000           homes   97.000000   1.0000   1.0000\n",
       "...       ...         ...             ...         ...      ...      ...\n",
       "3872   Topic6    5.620269            halt    6.262478   2.0738  -6.4556\n",
       "2038   Topic6    5.465952          corals    6.108161   2.0709  -6.4834\n",
       "1547   Topic6    5.217427  cclimateaction    5.859636   2.0659  -6.5300\n",
       "6311   Topic6   11.003496         percent   12.363907   2.0654  -5.7838\n",
       "5756   Topic6    4.862304    nairashalaby    5.504513   2.0579  -6.6005\n",
       "9263   Topic6    7.837755            wont    8.910291   2.0537  -6.1230\n",
       "3392   Topic6    4.555737      fossilfuel    5.200970   2.0495  -6.6656\n",
       "853    Topic6    9.168980         average   10.629322   2.0342  -5.9662\n",
       "4233   Topic6    7.941062         ignored    9.251125   2.0293  -6.1099\n",
       "3886   Topic6   10.612528       happening   13.003918   1.9787  -5.8199\n",
       "3173   Topic6   14.621984            fast   18.650822   1.9386  -5.4995\n",
       "259    Topic6    9.069455              90   11.092549   1.9806  -5.9771\n",
       "8746   Topic6    7.804076           twice    9.270582   2.0098  -6.1273\n",
       "8016   Topic6   12.824513           still   18.789122   1.8000  -5.6306\n",
       "3115   Topic6    9.019408            fact   11.839588   1.9099  -5.9826\n",
       "6306   Topic6   17.767712          people   36.990463   1.4487  -5.3046\n",
       "2065   Topic6   12.344216           could   21.150421   1.6435  -5.6688\n",
       "3369   Topic6    7.539441         forests    9.225418   1.9801  -6.1618\n",
       "3651   Topic6   42.527315          global  582.455123  -0.4351  -4.4318\n",
       "9063   Topic6   38.129506         warming  581.402538  -0.5425  -4.5410\n",
       "9135   Topic6    9.456659         weather   18.495153   1.5112  -5.9353\n",
       "0      Topic6   29.702447                  583.130205  -0.7952  -4.7907\n",
       "6924   Topic6   11.425305            real   36.415064   1.0228  -5.7461\n",
       "9277   Topic6   10.180295           world   26.954780   1.2083  -5.8615\n",
       "9293   Topic6    9.427147           would   21.467741   1.3590  -5.9384\n",
       "6944   Topic6    8.928242          really   22.452565   1.2598  -5.9928\n",
       "5036   Topic6    9.356203            like   34.266445   0.8838  -5.9459\n",
       "3681   Topic6    8.328102           going   20.489627   1.2817  -6.0623\n",
       "1760   Topic6    9.040529         climate  159.136057  -0.6861  -5.9803\n",
       "1023   Topic6    8.302699         believe   23.195184   1.1546  -6.0654\n",
       "\n",
       "[304 rows x 6 columns], token_table=      Topic      Freq           Term\n",
       "term                                \n",
       "0         1  0.329258               \n",
       "0         2  0.303534               \n",
       "0         3  0.116612               \n",
       "0         4  0.120042               \n",
       "0         5  0.078885               \n",
       "0         6  0.051446               \n",
       "11        6  0.887836            100\n",
       "15        5  0.949972        10000th\n",
       "46        1  0.903226             16\n",
       "50        2  0.779411             17\n",
       "53        1  0.997347  1776stonewall\n",
       "74        5  0.964526           1968\n",
       "78        4  0.942060           1975\n",
       "84        4  0.942060           1985\n",
       "104       3  0.943372            200\n",
       "110       4  0.901338           2004\n",
       "114       4  0.953366           2012\n",
       "165       5  0.949972            33m\n",
       "175       3  0.931881          3week\n",
       "196       3  0.943130             50\n",
       "196       6  0.024819             50\n",
       "220       2  0.986943             60\n",
       "238       6  0.847981             71\n",
       "259       1  0.090151             90\n",
       "259       6  0.811355             90\n",
       "292       6  0.955752            abo\n",
       "303       5  0.931533         absorb\n",
       "330       2  0.983192     accounting\n",
       "341       4  0.958802           acid\n",
       "528       1  0.977832      almonitor\n",
       "...     ...       ...            ...\n",
       "9063      3  0.106639        warming\n",
       "9063      4  0.079119        warming\n",
       "9063      5  0.079119        warming\n",
       "9063      6  0.065359        warming\n",
       "9082      2  0.481099        warning\n",
       "9082      3  0.495678        warning\n",
       "9082      5  0.014579        warning\n",
       "9135      1  0.108136        weather\n",
       "9135      3  0.162205        weather\n",
       "9135      4  0.108136        weather\n",
       "9135      5  0.162205        weather\n",
       "9135      6  0.486614        weather\n",
       "9190      3  0.975422        whether\n",
       "9263      5  0.112230           wont\n",
       "9263      6  0.897838           wont\n",
       "9277      3  0.222595          world\n",
       "9277      4  0.148397          world\n",
       "9277      5  0.222595          world\n",
       "9277      6  0.370992          world\n",
       "9293      1  0.046582          would\n",
       "9293      3  0.139745          would\n",
       "9293      4  0.139745          would\n",
       "9293      5  0.232908          would\n",
       "9293      6  0.419234          would\n",
       "9354      1  0.010878          years\n",
       "9354      2  0.402470          years\n",
       "9354      3  0.435103          years\n",
       "9354      4  0.054388          years\n",
       "9354      5  0.054388          years\n",
       "9354      6  0.032633          years\n",
       "\n",
       "[420 rows x 3 columns], R=30, lambda_step=0.01, plot_opts={'xlab': 'PC1', 'ylab': 'PC2'}, topic_order=[3, 1, 2, 4, 6, 5])"
      ]
     },
     "execution_count": 36,
     "metadata": {},
     "output_type": "execute_result"
    }
   ],
   "source": [
    "panel = pyLDAvis.sklearn.prepare(LDA, X_tfidf, tfidf_vect, mds='tsne')# see if I can adjust the visualisation to the combines topics\n",
    "panel"
   ]
  },
  {
   "cell_type": "code",
   "execution_count": 26,
   "metadata": {},
   "outputs": [],
   "source": [
    "# topics are very distinct so we can move forward with understanding what are the topics about"
   ]
  },
  {
   "cell_type": "markdown",
   "metadata": {},
   "source": [
    "# Understand topics"
   ]
  },
  {
   "cell_type": "code",
   "execution_count": 27,
   "metadata": {},
   "outputs": [],
   "source": [
    "sample_df=tweets.groupby('topic')['Tweet Text'].apply(lambda s: s.sample(25))"
   ]
  },
  {
   "cell_type": "code",
   "execution_count": 28,
   "metadata": {},
   "outputs": [
    {
     "data": {
      "text/html": [
       "<div>\n",
       "<style scoped>\n",
       "    .dataframe tbody tr th:only-of-type {\n",
       "        vertical-align: middle;\n",
       "    }\n",
       "\n",
       "    .dataframe tbody tr th {\n",
       "        vertical-align: top;\n",
       "    }\n",
       "\n",
       "    .dataframe thead th {\n",
       "        text-align: right;\n",
       "    }\n",
       "</style>\n",
       "<table border=\"1\" class=\"dataframe\">\n",
       "  <thead>\n",
       "    <tr style=\"text-align: right;\">\n",
       "      <th></th>\n",
       "      <th></th>\n",
       "      <th>Tweet Text</th>\n",
       "    </tr>\n",
       "    <tr>\n",
       "      <th>topic</th>\n",
       "      <th></th>\n",
       "      <th></th>\n",
       "    </tr>\n",
       "  </thead>\n",
       "  <tbody>\n",
       "    <tr>\n",
       "      <th rowspan=\"25\" valign=\"top\">0</th>\n",
       "      <th>1204</th>\n",
       "      <td>RT @BreitbartNews: Awful news for the Global W...</td>\n",
       "    </tr>\n",
       "    <tr>\n",
       "      <th>989</th>\n",
       "      <td>RT @ccdeditor: Why The Global Warming Movement...</td>\n",
       "    </tr>\n",
       "    <tr>\n",
       "      <th>4258</th>\n",
       "      <td>RT @BreitbartNews: Awful news for the Global W...</td>\n",
       "    </tr>\n",
       "    <tr>\n",
       "      <th>4255</th>\n",
       "      <td>RT @BreitbartNews: Awful news for the Global W...</td>\n",
       "    </tr>\n",
       "    <tr>\n",
       "      <th>7733</th>\n",
       "      <td>RT @dbongino: Global warming is an existential...</td>\n",
       "    </tr>\n",
       "    <tr>\n",
       "      <th>1622</th>\n",
       "      <td>RT @BreitbartNews: Awful news for the Global W...</td>\n",
       "    </tr>\n",
       "    <tr>\n",
       "      <th>7831</th>\n",
       "      <td>RT @dbongino: Global warming is an existential...</td>\n",
       "    </tr>\n",
       "    <tr>\n",
       "      <th>5970</th>\n",
       "      <td>RT @mzjacobson: “For 60 years, the fossil fuel...</td>\n",
       "    </tr>\n",
       "    <tr>\n",
       "      <th>6617</th>\n",
       "      <td>RT @gilmcgowan: Harvard report: “For 60 years,...</td>\n",
       "    </tr>\n",
       "    <tr>\n",
       "      <th>4029</th>\n",
       "      <td>RT @BreitbartNews: Awful news for the Global W...</td>\n",
       "    </tr>\n",
       "    <tr>\n",
       "      <th>6110</th>\n",
       "      <td>RT @mzjacobson: “For 60 years, the fossil fuel...</td>\n",
       "    </tr>\n",
       "    <tr>\n",
       "      <th>7032</th>\n",
       "      <td>RT @dbongino: Global warming is an existential...</td>\n",
       "    </tr>\n",
       "    <tr>\n",
       "      <th>9704</th>\n",
       "      <td>@zenzele Global warming is real</td>\n",
       "    </tr>\n",
       "    <tr>\n",
       "      <th>4143</th>\n",
       "      <td>RT @BreitbartNews: Awful news for the Global W...</td>\n",
       "    </tr>\n",
       "    <tr>\n",
       "      <th>8733</th>\n",
       "      <td>RT @dbongino: Global warming is an existential...</td>\n",
       "    </tr>\n",
       "    <tr>\n",
       "      <th>3655</th>\n",
       "      <td>RT @BreitbartNews: Awful news for the Global W...</td>\n",
       "    </tr>\n",
       "    <tr>\n",
       "      <th>7355</th>\n",
       "      <td>Let me guess....he'll apologize for that dick ...</td>\n",
       "    </tr>\n",
       "    <tr>\n",
       "      <th>9157</th>\n",
       "      <td>RT @dbongino: Global warming is an existential...</td>\n",
       "    </tr>\n",
       "    <tr>\n",
       "      <th>4043</th>\n",
       "      <td>RT @BreitbartNews: Awful news for the Global W...</td>\n",
       "    </tr>\n",
       "    <tr>\n",
       "      <th>762</th>\n",
       "      <td>@campusmoviefest are we experiencing global wa...</td>\n",
       "    </tr>\n",
       "    <tr>\n",
       "      <th>4875</th>\n",
       "      <td>RT @dbongino: Global warming is an existential...</td>\n",
       "    </tr>\n",
       "    <tr>\n",
       "      <th>4224</th>\n",
       "      <td>RT @BreitbartNews: Awful news for the Global W...</td>\n",
       "    </tr>\n",
       "    <tr>\n",
       "      <th>7124</th>\n",
       "      <td>RT @dbongino: Global warming is an existential...</td>\n",
       "    </tr>\n",
       "    <tr>\n",
       "      <th>8205</th>\n",
       "      <td>@dbongino Only global warming I see and believ...</td>\n",
       "    </tr>\n",
       "    <tr>\n",
       "      <th>8482</th>\n",
       "      <td>RT @mzjacobson: “For 60 years, the fossil fuel...</td>\n",
       "    </tr>\n",
       "    <tr>\n",
       "      <th rowspan=\"5\" valign=\"top\">1</th>\n",
       "      <th>5513</th>\n",
       "      <td>RT @JenitaM: Getting schooled at #SustainableB...</td>\n",
       "    </tr>\n",
       "    <tr>\n",
       "      <th>8138</th>\n",
       "      <td>RT @LarrySchweikart: Stuart Varney: Trump spee...</td>\n",
       "    </tr>\n",
       "    <tr>\n",
       "      <th>8410</th>\n",
       "      <td>RT @BLaw: New York’s AG will square off agains...</td>\n",
       "    </tr>\n",
       "    <tr>\n",
       "      <th>9913</th>\n",
       "      <td>RT @WesDunn9: Will be Interesting to see if th...</td>\n",
       "    </tr>\n",
       "    <tr>\n",
       "      <th>205</th>\n",
       "      <td>https://t.co/Og0Ktq4gQR: Why a Growing Greenla...</td>\n",
       "    </tr>\n",
       "    <tr>\n",
       "      <th>...</th>\n",
       "      <th>...</th>\n",
       "      <td>...</td>\n",
       "    </tr>\n",
       "    <tr>\n",
       "      <th rowspan=\"5\" valign=\"top\">4</th>\n",
       "      <th>4449</th>\n",
       "      <td>RT @HumanProgress: Amid all the talk of an imm...</td>\n",
       "    </tr>\n",
       "    <tr>\n",
       "      <th>2208</th>\n",
       "      <td>Oh no :( my coworker doesn’t believe in global...</td>\n",
       "    </tr>\n",
       "    <tr>\n",
       "      <th>5113</th>\n",
       "      <td>@OHKAYCHRIS Global warming is very spooky lol</td>\n",
       "    </tr>\n",
       "    <tr>\n",
       "      <th>5765</th>\n",
       "      <td>@clequere @royalsociety @tomheapmedia So you'r...</td>\n",
       "    </tr>\n",
       "    <tr>\n",
       "      <th>8587</th>\n",
       "      <td>'Use terms like ‘global warming’ and people he...</td>\n",
       "    </tr>\n",
       "    <tr>\n",
       "      <th rowspan=\"25\" valign=\"top\">5</th>\n",
       "      <th>9497</th>\n",
       "      <td>@californiapatr2 Co2 is actually 95% water vap...</td>\n",
       "    </tr>\n",
       "    <tr>\n",
       "      <th>9473</th>\n",
       "      <td>RT @MickGreenhough: @the_tpa @Tee_Ess1612 @XRe...</td>\n",
       "    </tr>\n",
       "    <tr>\n",
       "      <th>6488</th>\n",
       "      <td>RT @katiikiri: @KintuLinda @makthegrek @Kaguta...</td>\n",
       "    </tr>\n",
       "    <tr>\n",
       "      <th>6102</th>\n",
       "      <td>I am dying and global warming is real. That is...</td>\n",
       "    </tr>\n",
       "    <tr>\n",
       "      <th>6990</th>\n",
       "      <td>RT @TheAliceSmith: Global warming activists ar...</td>\n",
       "    </tr>\n",
       "    <tr>\n",
       "      <th>6764</th>\n",
       "      <td>RT @sarahvetwales: This is a game-changer: new...</td>\n",
       "    </tr>\n",
       "    <tr>\n",
       "      <th>1419</th>\n",
       "      <td>RT @EVILJOHNSAVAGE: ORIGINS OF THE GLOBAL WARM...</td>\n",
       "    </tr>\n",
       "    <tr>\n",
       "      <th>7614</th>\n",
       "      <td>Dear In-n-Out Burger, please open a store in A...</td>\n",
       "    </tr>\n",
       "    <tr>\n",
       "      <th>3772</th>\n",
       "      <td>RT @Commoner1: @dbirch214 The debate and vote ...</td>\n",
       "    </tr>\n",
       "    <tr>\n",
       "      <th>3561</th>\n",
       "      <td>RT @sarahvetwales: This is a game-changer: new...</td>\n",
       "    </tr>\n",
       "    <tr>\n",
       "      <th>9879</th>\n",
       "      <td>RT @Lcars24: The facts are there that we have ...</td>\n",
       "    </tr>\n",
       "    <tr>\n",
       "      <th>6893</th>\n",
       "      <td>@FTP_Tigerlily @Jordan_Sather_ I know all abou...</td>\n",
       "    </tr>\n",
       "    <tr>\n",
       "      <th>9448</th>\n",
       "      <td>@bacardinen @manifesto2000 @FredFoxyGuy @EDavi...</td>\n",
       "    </tr>\n",
       "    <tr>\n",
       "      <th>6275</th>\n",
       "      <td>@SindhuSorath @BeingShamss U told that u r nat...</td>\n",
       "    </tr>\n",
       "    <tr>\n",
       "      <th>5370</th>\n",
       "      <td>RT @ADevotedYogi: @priscian @Article3S @caerba...</td>\n",
       "    </tr>\n",
       "    <tr>\n",
       "      <th>2037</th>\n",
       "      <td>RT @EVILJOHNSAVAGE: ORIGINS OF THE GLOBAL WARM...</td>\n",
       "    </tr>\n",
       "    <tr>\n",
       "      <th>757</th>\n",
       "      <td>RT @JaggerMickOZ: CO2 can absorb IR but can’t ...</td>\n",
       "    </tr>\n",
       "    <tr>\n",
       "      <th>6117</th>\n",
       "      <td>Global warming here in Nisku. Help https://t.c...</td>\n",
       "    </tr>\n",
       "    <tr>\n",
       "      <th>9808</th>\n",
       "      <td>#ClimateChange and global warming. #Belarus is...</td>\n",
       "    </tr>\n",
       "    <tr>\n",
       "      <th>8335</th>\n",
       "      <td>RT @sarahvetwales: This is a game-changer: new...</td>\n",
       "    </tr>\n",
       "    <tr>\n",
       "      <th>1709</th>\n",
       "      <td>RT @sarahvetwales: This is a game-changer: new...</td>\n",
       "    </tr>\n",
       "    <tr>\n",
       "      <th>2033</th>\n",
       "      <td>RT @EVILJOHNSAVAGE: ORIGINS OF THE GLOBAL WARM...</td>\n",
       "    </tr>\n",
       "    <tr>\n",
       "      <th>5427</th>\n",
       "      <td>RT @70sBachchan: Live action shot of next G-7 ...</td>\n",
       "    </tr>\n",
       "    <tr>\n",
       "      <th>8664</th>\n",
       "      <td>I think the global warming activist would get ...</td>\n",
       "    </tr>\n",
       "    <tr>\n",
       "      <th>6082</th>\n",
       "      <td>RT @HighlandWPark: #DYK polar bears are under ...</td>\n",
       "    </tr>\n",
       "  </tbody>\n",
       "</table>\n",
       "<p>150 rows × 1 columns</p>\n",
       "</div>"
      ],
      "text/plain": [
       "                                                   Tweet Text\n",
       "topic                                                        \n",
       "0     1204  RT @BreitbartNews: Awful news for the Global W...\n",
       "      989   RT @ccdeditor: Why The Global Warming Movement...\n",
       "      4258  RT @BreitbartNews: Awful news for the Global W...\n",
       "      4255  RT @BreitbartNews: Awful news for the Global W...\n",
       "      7733  RT @dbongino: Global warming is an existential...\n",
       "      1622  RT @BreitbartNews: Awful news for the Global W...\n",
       "      7831  RT @dbongino: Global warming is an existential...\n",
       "      5970  RT @mzjacobson: “For 60 years, the fossil fuel...\n",
       "      6617  RT @gilmcgowan: Harvard report: “For 60 years,...\n",
       "      4029  RT @BreitbartNews: Awful news for the Global W...\n",
       "      6110  RT @mzjacobson: “For 60 years, the fossil fuel...\n",
       "      7032  RT @dbongino: Global warming is an existential...\n",
       "      9704                    @zenzele Global warming is real\n",
       "      4143  RT @BreitbartNews: Awful news for the Global W...\n",
       "      8733  RT @dbongino: Global warming is an existential...\n",
       "      3655  RT @BreitbartNews: Awful news for the Global W...\n",
       "      7355  Let me guess....he'll apologize for that dick ...\n",
       "      9157  RT @dbongino: Global warming is an existential...\n",
       "      4043  RT @BreitbartNews: Awful news for the Global W...\n",
       "      762   @campusmoviefest are we experiencing global wa...\n",
       "      4875  RT @dbongino: Global warming is an existential...\n",
       "      4224  RT @BreitbartNews: Awful news for the Global W...\n",
       "      7124  RT @dbongino: Global warming is an existential...\n",
       "      8205  @dbongino Only global warming I see and believ...\n",
       "      8482  RT @mzjacobson: “For 60 years, the fossil fuel...\n",
       "1     5513  RT @JenitaM: Getting schooled at #SustainableB...\n",
       "      8138  RT @LarrySchweikart: Stuart Varney: Trump spee...\n",
       "      8410  RT @BLaw: New York’s AG will square off agains...\n",
       "      9913  RT @WesDunn9: Will be Interesting to see if th...\n",
       "      205   https://t.co/Og0Ktq4gQR: Why a Growing Greenla...\n",
       "...                                                       ...\n",
       "4     4449  RT @HumanProgress: Amid all the talk of an imm...\n",
       "      2208  Oh no :( my coworker doesn’t believe in global...\n",
       "      5113      @OHKAYCHRIS Global warming is very spooky lol\n",
       "      5765  @clequere @royalsociety @tomheapmedia So you'r...\n",
       "      8587  'Use terms like ‘global warming’ and people he...\n",
       "5     9497  @californiapatr2 Co2 is actually 95% water vap...\n",
       "      9473  RT @MickGreenhough: @the_tpa @Tee_Ess1612 @XRe...\n",
       "      6488  RT @katiikiri: @KintuLinda @makthegrek @Kaguta...\n",
       "      6102  I am dying and global warming is real. That is...\n",
       "      6990  RT @TheAliceSmith: Global warming activists ar...\n",
       "      6764  RT @sarahvetwales: This is a game-changer: new...\n",
       "      1419  RT @EVILJOHNSAVAGE: ORIGINS OF THE GLOBAL WARM...\n",
       "      7614  Dear In-n-Out Burger, please open a store in A...\n",
       "      3772  RT @Commoner1: @dbirch214 The debate and vote ...\n",
       "      3561  RT @sarahvetwales: This is a game-changer: new...\n",
       "      9879  RT @Lcars24: The facts are there that we have ...\n",
       "      6893  @FTP_Tigerlily @Jordan_Sather_ I know all abou...\n",
       "      9448  @bacardinen @manifesto2000 @FredFoxyGuy @EDavi...\n",
       "      6275  @SindhuSorath @BeingShamss U told that u r nat...\n",
       "      5370  RT @ADevotedYogi: @priscian @Article3S @caerba...\n",
       "      2037  RT @EVILJOHNSAVAGE: ORIGINS OF THE GLOBAL WARM...\n",
       "      757   RT @JaggerMickOZ: CO2 can absorb IR but can’t ...\n",
       "      6117  Global warming here in Nisku. Help https://t.c...\n",
       "      9808  #ClimateChange and global warming. #Belarus is...\n",
       "      8335  RT @sarahvetwales: This is a game-changer: new...\n",
       "      1709  RT @sarahvetwales: This is a game-changer: new...\n",
       "      2033  RT @EVILJOHNSAVAGE: ORIGINS OF THE GLOBAL WARM...\n",
       "      5427  RT @70sBachchan: Live action shot of next G-7 ...\n",
       "      8664  I think the global warming activist would get ...\n",
       "      6082  RT @HighlandWPark: #DYK polar bears are under ...\n",
       "\n",
       "[150 rows x 1 columns]"
      ]
     },
     "execution_count": 28,
     "metadata": {},
     "output_type": "execute_result"
    }
   ],
   "source": [
    "pd.DataFrame(sample_df)"
   ]
  },
  {
   "cell_type": "code",
   "execution_count": 29,
   "metadata": {},
   "outputs": [],
   "source": [
    "sample_df.to_csv('Global warming_sample_tweets.csv', sep='\\t', encoding='utf-8', header=False)"
   ]
  },
  {
   "cell_type": "markdown",
   "metadata": {},
   "source": [
    "after reading a sample from each topic:\n",
    "0- Opinions\n",
    "1- international politics\n",
    "2,3- informative topics to be combined\n",
    "4,5-call for action\n"
   ]
  },
  {
   "cell_type": "markdown",
   "metadata": {},
   "source": [
    "##### combining classes 2, 3 and 4,5"
   ]
  },
  {
   "cell_type": "code",
   "execution_count": 21,
   "metadata": {},
   "outputs": [],
   "source": [
    "def adjust_classes(n):\n",
    "    if n==3:\n",
    "        return 2\n",
    "    if n in [4,5]:\n",
    "        return 3\n",
    "    return n"
   ]
  },
  {
   "cell_type": "code",
   "execution_count": 22,
   "metadata": {},
   "outputs": [],
   "source": [
    "tweets['topic']=tweets['topic'].apply(adjust_classes)"
   ]
  },
  {
   "cell_type": "code",
   "execution_count": 30,
   "metadata": {},
   "outputs": [
    {
     "data": {
      "text/plain": [
       "2    3815\n",
       "0    2371\n",
       "3    2251\n",
       "1    1563\n",
       "Name: topic, dtype: int64"
      ]
     },
     "execution_count": 30,
     "metadata": {},
     "output_type": "execute_result"
    }
   ],
   "source": [
    "tweets['topic'].value_counts()"
   ]
  },
  {
   "cell_type": "code",
   "execution_count": 1,
   "metadata": {},
   "outputs": [
    {
     "ename": "NameError",
     "evalue": "name 'tweets' is not defined",
     "output_type": "error",
     "traceback": [
      "\u001b[0;31m---------------------------------------------------------------------------\u001b[0m",
      "\u001b[0;31mNameError\u001b[0m                                 Traceback (most recent call last)",
      "\u001b[0;32m<ipython-input-1-287f0432b4f4>\u001b[0m in \u001b[0;36m<module>\u001b[0;34m\u001b[0m\n\u001b[0;32m----> 1\u001b[0;31m \u001b[0mtweets\u001b[0m\u001b[0;34m.\u001b[0m\u001b[0mto_excel\u001b[0m\u001b[0;34m(\u001b[0m\u001b[0;34m'tweets_with_label.xls'\u001b[0m\u001b[0;34m)\u001b[0m\u001b[0;31m#, sep='\\t', encoding='utf-8', header=False)\u001b[0m\u001b[0;34m\u001b[0m\u001b[0;34m\u001b[0m\u001b[0m\n\u001b[0m",
      "\u001b[0;31mNameError\u001b[0m: name 'tweets' is not defined"
     ]
    }
   ],
   "source": [
    "tweets.to_excel('tweets_with_label.xls')#, sep='\\t', encoding='utf-8', header=False)"
   ]
  },
  {
   "cell_type": "markdown",
   "metadata": {},
   "source": [
    "# SVM Classification pipeline"
   ]
  },
  {
   "cell_type": "code",
   "execution_count": null,
   "metadata": {},
   "outputs": [],
   "source": []
  },
  {
   "cell_type": "code",
   "execution_count": 33,
   "metadata": {},
   "outputs": [
    {
     "data": {
      "text/plain": [
       "(10000, 9447)"
      ]
     },
     "execution_count": 33,
     "metadata": {},
     "output_type": "execute_result"
    }
   ],
   "source": [
    "X=pd.concat([pd.DataFrame(X_tfidf.toarray()), tweets[['word_count', 'char_count', 'avg_word', 'stopwords_counts',\n",
    "       'hastags', 'tags', 'numerics']]], axis=1)\n",
    "X.shape"
   ]
  },
  {
   "cell_type": "code",
   "execution_count": 34,
   "metadata": {},
   "outputs": [],
   "source": [
    "Y=tweets['topic']"
   ]
  },
  {
   "cell_type": "code",
   "execution_count": 35,
   "metadata": {},
   "outputs": [],
   "source": [
    "X_train, X_test, y_train, y_test= train_test_split(X , Y, test_size=0.2)\n"
   ]
  },
  {
   "cell_type": "code",
   "execution_count": 72,
   "metadata": {},
   "outputs": [],
   "source": [
    "svm_clf=Pipeline([\n",
    "    ('scaler', StandardScaler()),\n",
    "    ('linear_svc', LinearSVC(C=10, loss='hinge'))\n",
    "])"
   ]
  },
  {
   "cell_type": "code",
   "execution_count": 73,
   "metadata": {},
   "outputs": [
    {
     "name": "stderr",
     "output_type": "stream",
     "text": [
      "//anaconda3/lib/python3.7/site-packages/sklearn/svm/base.py:929: ConvergenceWarning: Liblinear failed to converge, increase the number of iterations.\n",
      "  \"the number of iterations.\", ConvergenceWarning)\n"
     ]
    },
    {
     "data": {
      "text/plain": [
       "Pipeline(memory=None,\n",
       "         steps=[('scaler',\n",
       "                 StandardScaler(copy=True, with_mean=True, with_std=True)),\n",
       "                ('linear_svc',\n",
       "                 LinearSVC(C=10, class_weight=None, dual=True,\n",
       "                           fit_intercept=True, intercept_scaling=1,\n",
       "                           loss='hinge', max_iter=1000, multi_class='ovr',\n",
       "                           penalty='l2', random_state=None, tol=0.0001,\n",
       "                           verbose=0))],\n",
       "         verbose=False)"
      ]
     },
     "execution_count": 73,
     "metadata": {},
     "output_type": "execute_result"
    }
   ],
   "source": [
    "svm_clf.fit(X_train, y_train)"
   ]
  },
  {
   "cell_type": "code",
   "execution_count": 74,
   "metadata": {},
   "outputs": [],
   "source": [
    "y_pred=svm_clf.predict(X_test)"
   ]
  },
  {
   "cell_type": "code",
   "execution_count": 75,
   "metadata": {},
   "outputs": [
    {
     "name": "stdout",
     "output_type": "stream",
     "text": [
      "[[441   8   8  16]\n",
      " [  6 284   8  26]\n",
      " [  7  22 672  48]\n",
      " [ 10  40  25 379]]\n",
      "              precision    recall  f1-score   support\n",
      "\n",
      "           0       0.95      0.93      0.94       473\n",
      "           1       0.80      0.88      0.84       324\n",
      "           2       0.94      0.90      0.92       749\n",
      "           3       0.81      0.83      0.82       454\n",
      "\n",
      "    accuracy                           0.89      2000\n",
      "   macro avg       0.88      0.89      0.88      2000\n",
      "weighted avg       0.89      0.89      0.89      2000\n",
      "\n"
     ]
    }
   ],
   "source": [
    "print(confusion_matrix(y_test, y_pred))\n",
    "print(classification_report(y_test,y_pred))"
   ]
  },
  {
   "cell_type": "code",
   "execution_count": 76,
   "metadata": {},
   "outputs": [],
   "source": [
    "# pickle the model\n",
    "\n",
    "filename = 'linear_svm_clf.sav'\n",
    "pickle.dump(svm_clf, open(filename, 'wb'))"
   ]
  },
  {
   "cell_type": "code",
   "execution_count": 77,
   "metadata": {},
   "outputs": [
    {
     "name": "stdout",
     "output_type": "stream",
     "text": [
      "0.888\n"
     ]
    }
   ],
   "source": [
    "loaded_model = pickle.load(open(filename, 'rb'))\n",
    "result = loaded_model.score(X_test, y_test)\n",
    "print(result)"
   ]
  },
  {
   "cell_type": "markdown",
   "metadata": {},
   "source": [
    "# Logistic regression CV"
   ]
  },
  {
   "cell_type": "code",
   "execution_count": 43,
   "metadata": {},
   "outputs": [],
   "source": [
    "logisctic_CV=Pipeline([\n",
    "    ('scaler', StandardScaler()),\n",
    "    ('Logistic_CV', LogisticRegressionCV(cv=5, random_state=0,\n",
    "                           multi_class='multinomial'))\n",
    "    \n",
    "])"
   ]
  },
  {
   "cell_type": "code",
   "execution_count": 44,
   "metadata": {},
   "outputs": [
    {
     "data": {
      "text/plain": [
       "Pipeline(memory=None,\n",
       "         steps=[('scaler',\n",
       "                 StandardScaler(copy=True, with_mean=True, with_std=True)),\n",
       "                ('Logistic_CV',\n",
       "                 LogisticRegressionCV(Cs=10, class_weight=None, cv=5,\n",
       "                                      dual=False, fit_intercept=True,\n",
       "                                      intercept_scaling=1.0, l1_ratios=None,\n",
       "                                      max_iter=100, multi_class='multinomial',\n",
       "                                      n_jobs=None, penalty='l2', random_state=0,\n",
       "                                      refit=True, scoring=None, solver='lbfgs',\n",
       "                                      tol=0.0001, verbose=0))],\n",
       "         verbose=False)"
      ]
     },
     "execution_count": 44,
     "metadata": {},
     "output_type": "execute_result"
    }
   ],
   "source": [
    "logisctic_CV.fit(X_train, y_train)"
   ]
  },
  {
   "cell_type": "code",
   "execution_count": 45,
   "metadata": {},
   "outputs": [],
   "source": [
    "y_pred=clf.predict(X_test)"
   ]
  },
  {
   "cell_type": "code",
   "execution_count": 46,
   "metadata": {},
   "outputs": [
    {
     "name": "stdout",
     "output_type": "stream",
     "text": [
      "[[425   0  22  36]\n",
      " [  4 195  45  82]\n",
      " [  2   8 654  82]\n",
      " [  3  12  54 376]]\n",
      "              precision    recall  f1-score   support\n",
      "\n",
      "           0       0.98      0.88      0.93       483\n",
      "           1       0.91      0.60      0.72       326\n",
      "           2       0.84      0.88      0.86       746\n",
      "           3       0.65      0.84      0.74       445\n",
      "\n",
      "    accuracy                           0.82      2000\n",
      "   macro avg       0.85      0.80      0.81      2000\n",
      "weighted avg       0.84      0.82      0.83      2000\n",
      "\n"
     ]
    }
   ],
   "source": [
    "print(confusion_matrix(y_test, y_pred))\n",
    "print(classification_report(y_test,y_pred))"
   ]
  },
  {
   "cell_type": "code",
   "execution_count": 49,
   "metadata": {},
   "outputs": [],
   "source": [
    "filename = 'logistic_regression_CV.sav'\n",
    "pickle.dump(logisctic_CV, open(filename, 'wb'))"
   ]
  },
  {
   "cell_type": "markdown",
   "metadata": {},
   "source": [
    "# Word embedding"
   ]
  },
  {
   "cell_type": "code",
   "execution_count": 23,
   "metadata": {},
   "outputs": [],
   "source": [
    "\n",
    "MAX_SEQUENCE_LENGTH = 1000\n",
    "MAX_NB_WORDS = 100000\n",
    "EMBEDDING_DIM = 100\n",
    "VALIDATION_SPLIT = 0.2\n",
    "TEST_SPLIT=0.2"
   ]
  },
  {
   "cell_type": "code",
   "execution_count": 24,
   "metadata": {},
   "outputs": [
    {
     "name": "stdout",
     "output_type": "stream",
     "text": [
      "Number of Unique Tokens 12435\n"
     ]
    }
   ],
   "source": [
    "\n",
    "tokenizer = Tokenizer(num_words=MAX_NB_WORDS)\n",
    "tokenizer.fit_on_texts(tweets['Tweet Text'])\n",
    "sequences = tokenizer.texts_to_sequences(tweets['Tweet Text'])\n",
    "\n",
    "word_index = tokenizer.word_index\n",
    "print('Number of Unique Tokens',len(word_index))"
   ]
  },
  {
   "cell_type": "code",
   "execution_count": 25,
   "metadata": {},
   "outputs": [
    {
     "name": "stdout",
     "output_type": "stream",
     "text": [
      "Shape of Data Tensor: (10000, 1000)\n",
      "Shape of Label Tensor: (10000, 4)\n"
     ]
    }
   ],
   "source": [
    "data = pad_sequences(sequences, maxlen=MAX_SEQUENCE_LENGTH)\n",
    "\n",
    "labels = to_categorical(np.asarray(tweets['topic']))\n",
    "print('Shape of Data Tensor:', data.shape)\n",
    "print('Shape of Label Tensor:', labels.shape)\n",
    "\n",
    "indices = np.arange(data.shape[0])\n",
    "np.random.shuffle(indices)\n",
    "data = data[indices]\n",
    "labels = labels[indices]\n",
    "nb_test_samples = int(TEST_SPLIT * data.shape[0])\n",
    "nb_val_samples = int (VALIDATION_SPLIT*nb_test_samples)\n",
    "\n",
    "x_train = data[:-(nb_val_samples+nb_test_samples)]\n",
    "y_train = labels[:-(nb_val_samples+nb_test_samples)]\n",
    "x_val = data[-(nb_val_samples+nb_test_samples):-nb_test_samples:]\n",
    "y_val = labels[-(nb_val_samples+nb_test_samples):-nb_test_samples:]\n",
    "x_test = data[-nb_test_samples:]\n",
    "y_test = labels[-nb_test_samples:]"
   ]
  },
  {
   "cell_type": "code",
   "execution_count": 37,
   "metadata": {},
   "outputs": [],
   "source": [
    "from zipfile import ZipFile\n",
    "with ZipFile('glove6b100dtxt.zip', 'r') as zipObj:\n",
    "   # Extract all the contents of zip file in current directory\n",
    "   zipObj.extractall()"
   ]
  },
  {
   "cell_type": "code",
   "execution_count": 27,
   "metadata": {},
   "outputs": [
    {
     "name": "stdout",
     "output_type": "stream",
     "text": [
      "Total 400000 word vectors in Glove 6B 100d.\n"
     ]
    }
   ],
   "source": [
    "embeddings_index = {}\n",
    "f = open('glove.6B.100d.txt',encoding='utf8')\n",
    "for line in f:\n",
    "    values = line.split()\n",
    "    word = values[0]\n",
    "    coefs = np.asarray(values[1:], dtype='float32')\n",
    "    embeddings_index[word] = coefs\n",
    "f.close()\n",
    "\n",
    "print('Total %s word vectors in Glove 6B 100d.' % len(embeddings_index))"
   ]
  },
  {
   "cell_type": "code",
   "execution_count": 28,
   "metadata": {},
   "outputs": [],
   "source": [
    "\n",
    "embedding_matrix = np.random.random((len(word_index) + 1, EMBEDDING_DIM))\n",
    "for word, i in word_index.items():\n",
    "    embedding_vector = embeddings_index.get(word)\n",
    "    if embedding_vector is not None:\n",
    "        # words not found in embedding index will be all-zeros.\n",
    "        embedding_matrix[i] = embedding_vector\n",
    "\n",
    "embedding_layer = Embedding(len(word_index) + 1,\n",
    "                            EMBEDDING_DIM,weights=[embedding_matrix],\n",
    "                            input_length=MAX_SEQUENCE_LENGTH,trainable=True)"
   ]
  },
  {
   "cell_type": "markdown",
   "metadata": {},
   "source": [
    "# CNN"
   ]
  },
  {
   "cell_type": "code",
   "execution_count": 120,
   "metadata": {},
   "outputs": [
    {
     "name": "stdout",
     "output_type": "stream",
     "text": [
      "Simplified convolutional neural network\n",
      "_________________________________________________________________\n",
      "Layer (type)                 Output Shape              Param #   \n",
      "=================================================================\n",
      "input_3 (InputLayer)         (None, 1000)              0         \n",
      "_________________________________________________________________\n",
      "embedding_1 (Embedding)      (None, 1000, 100)         1243600   \n",
      "_________________________________________________________________\n",
      "conv1d_7 (Conv1D)            (None, 996, 128)          64128     \n",
      "_________________________________________________________________\n",
      "max_pooling1d_7 (MaxPooling1 (None, 199, 128)          0         \n",
      "_________________________________________________________________\n",
      "conv1d_8 (Conv1D)            (None, 195, 128)          82048     \n",
      "_________________________________________________________________\n",
      "max_pooling1d_8 (MaxPooling1 (None, 39, 128)           0         \n",
      "_________________________________________________________________\n",
      "conv1d_9 (Conv1D)            (None, 35, 128)           82048     \n",
      "_________________________________________________________________\n",
      "max_pooling1d_9 (MaxPooling1 (None, 1, 128)            0         \n",
      "_________________________________________________________________\n",
      "flatten_3 (Flatten)          (None, 128)               0         \n",
      "_________________________________________________________________\n",
      "dense_4 (Dense)              (None, 128)               16512     \n",
      "_________________________________________________________________\n",
      "dense_5 (Dense)              (None, 4)                 516       \n",
      "=================================================================\n",
      "Total params: 1,488,852\n",
      "Trainable params: 1,488,852\n",
      "Non-trainable params: 0\n",
      "_________________________________________________________________\n"
     ]
    }
   ],
   "source": [
    "sequence_input = Input(shape=(MAX_SEQUENCE_LENGTH,), dtype='int32')\n",
    "embedded_sequences = embedding_layer(sequence_input)\n",
    "l_cov1= Conv1D(128, 5, activation='relu')(embedded_sequences)\n",
    "l_pool1 = MaxPooling1D(5)(l_cov1)\n",
    "l_cov2 = Conv1D(128, 5, activation='relu')(l_pool1)\n",
    "l_pool2 = MaxPooling1D(5)(l_cov2)\n",
    "l_cov3 = Conv1D(128, 5, activation='relu')(l_pool2)\n",
    "l_pool3 = MaxPooling1D(35)(l_cov3)  # global max pooling\n",
    "l_flat = Flatten()(l_pool3)\n",
    "l_dense = Dense(128, activation='relu')(l_flat)\n",
    "preds = Dense(4, activation='softmax')(l_dense)\n",
    "\n",
    "model = Model(sequence_input, preds)\n",
    "model.compile(loss='categorical_crossentropy',\n",
    "              optimizer='rmsprop',\n",
    "              metrics=['acc'])\n",
    "\n",
    "print(\"Simplified convolutional neural network\")\n",
    "model.summary()\n",
    "cp=ModelCheckpoint('model_cnn.hdf5',monitor='val_acc',verbose=1,save_best_only=True)"
   ]
  },
  {
   "cell_type": "code",
   "execution_count": 121,
   "metadata": {},
   "outputs": [
    {
     "name": "stderr",
     "output_type": "stream",
     "text": [
      "W1029 21:35:42.075151 4713080256 deprecation.py:323] From //anaconda3/lib/python3.7/site-packages/tensorflow/python/ops/math_grad.py:1250: add_dispatch_support.<locals>.wrapper (from tensorflow.python.ops.array_ops) is deprecated and will be removed in a future version.\n",
      "Instructions for updating:\n",
      "Use tf.where in 2.0, which has the same broadcast rule as np.where\n"
     ]
    },
    {
     "name": "stdout",
     "output_type": "stream",
     "text": [
      "Train on 7600 samples, validate on 400 samples\n",
      "Epoch 1/15\n",
      "7600/7600 [==============================] - 114s 15ms/step - loss: 0.6325 - acc: 0.7393 - val_loss: 0.6626 - val_acc: 0.7900\n",
      "\n",
      "Epoch 00001: val_acc improved from -inf to 0.79000, saving model to model_cnn.hdf5\n",
      "Epoch 2/15\n",
      "7600/7600 [==============================] - 112s 15ms/step - loss: 0.5257 - acc: 0.7980 - val_loss: 0.4591 - val_acc: 0.7750\n",
      "\n",
      "Epoch 00002: val_acc did not improve from 0.79000\n",
      "Epoch 3/15\n",
      "7600/7600 [==============================] - 110s 14ms/step - loss: 0.5499 - acc: 0.8151 - val_loss: 0.5870 - val_acc: 0.7875\n",
      "\n",
      "Epoch 00003: val_acc did not improve from 0.79000\n",
      "Epoch 4/15\n",
      "7600/7600 [==============================] - 105s 14ms/step - loss: 0.5386 - acc: 0.8329 - val_loss: 0.6013 - val_acc: 0.7800\n",
      "\n",
      "Epoch 00004: val_acc did not improve from 0.79000\n",
      "Epoch 5/15\n",
      "7600/7600 [==============================] - 114s 15ms/step - loss: 0.5208 - acc: 0.8459 - val_loss: 0.6211 - val_acc: 0.7875\n",
      "\n",
      "Epoch 00005: val_acc did not improve from 0.79000\n",
      "Epoch 6/15\n",
      "7600/7600 [==============================] - 114s 15ms/step - loss: 0.5296 - acc: 0.8579 - val_loss: 1.7069 - val_acc: 0.7675\n",
      "\n",
      "Epoch 00006: val_acc did not improve from 0.79000\n",
      "Epoch 7/15\n",
      "7600/7600 [==============================] - 114s 15ms/step - loss: 0.4961 - acc: 0.8764 - val_loss: 1.3274 - val_acc: 0.8000\n",
      "\n",
      "Epoch 00007: val_acc improved from 0.79000 to 0.80000, saving model to model_cnn.hdf5\n",
      "Epoch 8/15\n",
      "7600/7600 [==============================] - 114s 15ms/step - loss: 0.6064 - acc: 0.8851 - val_loss: 1.2103 - val_acc: 0.8225\n",
      "\n",
      "Epoch 00008: val_acc improved from 0.80000 to 0.82250, saving model to model_cnn.hdf5\n",
      "Epoch 9/15\n",
      "7600/7600 [==============================] - 114s 15ms/step - loss: 0.6563 - acc: 0.8871 - val_loss: 1.3432 - val_acc: 0.8100\n",
      "\n",
      "Epoch 00009: val_acc did not improve from 0.82250\n",
      "Epoch 10/15\n",
      "7600/7600 [==============================] - 114s 15ms/step - loss: 0.5544 - acc: 0.9001 - val_loss: 1.5241 - val_acc: 0.8100\n",
      "\n",
      "Epoch 00010: val_acc did not improve from 0.82250\n",
      "Epoch 11/15\n",
      "7600/7600 [==============================] - 114s 15ms/step - loss: 0.5444 - acc: 0.9114 - val_loss: 1.8740 - val_acc: 0.7950\n",
      "\n",
      "Epoch 00011: val_acc did not improve from 0.82250\n",
      "Epoch 12/15\n",
      "7600/7600 [==============================] - 115s 15ms/step - loss: 0.5791 - acc: 0.9153 - val_loss: 1.9809 - val_acc: 0.8350\n",
      "\n",
      "Epoch 00012: val_acc improved from 0.82250 to 0.83500, saving model to model_cnn.hdf5\n",
      "Epoch 13/15\n",
      "7600/7600 [==============================] - 115s 15ms/step - loss: 0.7119 - acc: 0.9130 - val_loss: 2.7909 - val_acc: 0.7850\n",
      "\n",
      "Epoch 00013: val_acc did not improve from 0.83500\n",
      "Epoch 14/15\n",
      "7600/7600 [==============================] - 115s 15ms/step - loss: 0.6252 - acc: 0.9217 - val_loss: 1.8232 - val_acc: 0.8275\n",
      "\n",
      "Epoch 00014: val_acc did not improve from 0.83500\n",
      "Epoch 15/15\n",
      "7600/7600 [==============================] - 115s 15ms/step - loss: 0.9426 - acc: 0.9153 - val_loss: 2.7629 - val_acc: 0.7850\n",
      "\n",
      "Epoch 00015: val_acc did not improve from 0.83500\n"
     ]
    }
   ],
   "source": [
    "history=model.fit(x_train, y_train, validation_data=(x_val, y_val),epochs=15, batch_size=2,callbacks=[cp])"
   ]
  },
  {
   "cell_type": "code",
   "execution_count": 122,
   "metadata": {},
   "outputs": [
    {
     "data": {
      "image/png": "[encoded data removed]",
      "text/plain": [
       "<Figure size 432x288 with 1 Axes>"
      ]
     },
     "metadata": {},
     "output_type": "display_data"
    }
   ],
   "source": [
    "\n",
    "fig1 = plt.figure()\n",
    "plt.plot(history.history['loss'],'r',linewidth=3.0)\n",
    "plt.plot(history.history['val_loss'],'b',linewidth=3.0)\n",
    "plt.legend(['Training loss', 'Validation Loss'],fontsize=18)\n",
    "plt.xlabel('Epochs ',fontsize=16)\n",
    "plt.ylabel('Loss',fontsize=16)\n",
    "plt.title('Loss Curves :CNN',fontsize=16)\n",
    "fig1.savefig('loss_cnn.png')\n",
    "plt.show()"
   ]
  },
  {
   "cell_type": "code",
   "execution_count": 123,
   "metadata": {},
   "outputs": [
    {
     "data": {
      "image/png": "[encoded data removed]",
      "text/plain": [
       "<Figure size 432x288 with 1 Axes>"
      ]
     },
     "metadata": {},
     "output_type": "display_data"
    }
   ],
   "source": [
    "fig2=plt.figure()\n",
    "plt.plot(history.history['acc'],'r',linewidth=3.0)\n",
    "plt.plot(history.history['val_acc'],'b',linewidth=3.0)\n",
    "plt.legend(['Training Accuracy', 'Validation Accuracy'],fontsize=18)\n",
    "plt.xlabel('Epochs ',fontsize=16)\n",
    "plt.ylabel('Accuracy',fontsize=16)\n",
    "plt.title('Accuracy Curves : CNN',fontsize=16)\n",
    "fig2.savefig('accuracy_cnn.png')\n",
    "plt.show()"
   ]
  },
  {
   "cell_type": "markdown",
   "metadata": {},
   "source": [
    "after 2 epochs, the training accuracy continues to increase wereas the va"
   ]
  },
  {
   "cell_type": "markdown",
   "metadata": {},
   "source": [
    "# RNN"
   ]
  },
  {
   "cell_type": "code",
   "execution_count": 29,
   "metadata": {},
   "outputs": [
    {
     "name": "stderr",
     "output_type": "stream",
     "text": [
      "W1101 18:16:58.792801 4590462400 deprecation_wrapper.py:119] From //anaconda3/lib/python3.7/site-packages/keras/backend/tensorflow_backend.py:4138: The name tf.random_uniform is deprecated. Please use tf.random.uniform instead.\n",
      "\n",
      "W1101 18:16:58.802072 4590462400 deprecation_wrapper.py:119] From //anaconda3/lib/python3.7/site-packages/keras/backend/tensorflow_backend.py:174: The name tf.get_default_session is deprecated. Please use tf.compat.v1.get_default_session instead.\n",
      "\n",
      "W1101 18:16:58.802752 4590462400 deprecation_wrapper.py:119] From //anaconda3/lib/python3.7/site-packages/keras/backend/tensorflow_backend.py:181: The name tf.ConfigProto is deprecated. Please use tf.compat.v1.ConfigProto instead.\n",
      "\n",
      "W1101 18:16:59.238256 4590462400 deprecation_wrapper.py:119] From //anaconda3/lib/python3.7/site-packages/keras/optimizers.py:790: The name tf.train.Optimizer is deprecated. Please use tf.compat.v1.train.Optimizer instead.\n",
      "\n"
     ]
    },
    {
     "name": "stdout",
     "output_type": "stream",
     "text": [
      "Bidirectional LSTM\n",
      "_________________________________________________________________\n",
      "Layer (type)                 Output Shape              Param #   \n",
      "=================================================================\n",
      "input_2 (InputLayer)         (None, 1000)              0         \n",
      "_________________________________________________________________\n",
      "embedding_1 (Embedding)      (None, 1000, 100)         1243600   \n",
      "_________________________________________________________________\n",
      "bidirectional_1 (Bidirection (None, 200)               160800    \n",
      "_________________________________________________________________\n",
      "dense_1 (Dense)              (None, 4)                 804       \n",
      "=================================================================\n",
      "Total params: 1,405,204\n",
      "Trainable params: 1,405,204\n",
      "Non-trainable params: 0\n",
      "_________________________________________________________________\n"
     ]
    }
   ],
   "source": [
    "sequence_input = Input(shape=(MAX_SEQUENCE_LENGTH,), dtype='int32')\n",
    "embedded_sequences = embedding_layer(sequence_input)\n",
    "l_lstm = Bidirectional(LSTM(100))(embedded_sequences)\n",
    "preds = Dense(4, activation='softmax')(l_lstm)\n",
    "model = Model(sequence_input, preds)\n",
    "model.compile(loss='categorical_crossentropy',\n",
    "              optimizer='rmsprop',\n",
    "              metrics=['acc'])\n",
    "\n",
    "print(\"Bidirectional LSTM\")\n",
    "model.summary()"
   ]
  },
  {
   "cell_type": "code",
   "execution_count": null,
   "metadata": {},
   "outputs": [
    {
     "name": "stdout",
     "output_type": "stream",
     "text": [
      "Train on 7600 samples, validate on 400 samples\n",
      "Epoch 1/5\n",
      "6242/7600 [=======================>......] - ETA: 16:23 - loss: 0.5934 - acc: 0.7437"
     ]
    }
   ],
   "source": [
    "cp=ModelCheckpoint('model_rnn.hdf5',monitor='val_acc',verbose=1,save_best_only=True)\n",
    "history=model.fit(x_train, y_train, validation_data=(x_val, y_val),epochs=5, batch_size=2,callbacks=[cp])"
   ]
  },
  {
   "cell_type": "code",
   "execution_count": null,
   "metadata": {},
   "outputs": [],
   "source": [
    "\n",
    "fig1 = plt.figure()\n",
    "plt.plot(history.history['loss'],'r',linewidth=3.0)\n",
    "plt.plot(history.history['val_loss'],'b',linewidth=3.0)\n",
    "plt.legend(['Training loss', 'Validation Loss'],fontsize=18)\n",
    "plt.xlabel('Epochs ',fontsize=16)\n",
    "plt.ylabel('Loss',fontsize=16)\n",
    "plt.title('Loss Curves :RNN',fontsize=16)\n",
    "fig1.savefig('loss_rnn.png')\n",
    "plt.show()"
   ]
  },
  {
   "cell_type": "code",
   "execution_count": null,
   "metadata": {},
   "outputs": [],
   "source": [
    "fig2=plt.figure()\n",
    "plt.plot(history.history['acc'],'r',linewidth=3.0)\n",
    "plt.plot(history.history['val_acc'],'b',linewidth=3.0)\n",
    "plt.legend(['Training Accuracy', 'Validation Accuracy'],fontsize=18)\n",
    "plt.xlabel('Epochs ',fontsize=16)\n",
    "plt.ylabel('Accuracy',fontsize=16)\n",
    "plt.title('Accuracy Curves : RNN',fontsize=16)\n",
    "fig2.savefig('accuracy_rnn.png')\n",
    "plt.show()"
   ]
  },
  {
   "cell_type": "code",
   "execution_count": null,
   "metadata": {},
   "outputs": [],
   "source": []
  }
 ],
 "metadata": {
  "kernelspec": {
   "display_name": "Python 3",
   "language": "python",
   "name": "python3"
  },
  "language_info": {
   "codemirror_mode": {
    "name": "ipython",
    "version": 3
   },
   "file_extension": ".py",
   "mimetype": "text/x-python",
   "name": "python",
   "nbconvert_exporter": "python",
   "pygments_lexer": "ipython3",
   "version": "3.7.3"
  }
 },
 "nbformat": 4,
 "nbformat_minor": 4
}
