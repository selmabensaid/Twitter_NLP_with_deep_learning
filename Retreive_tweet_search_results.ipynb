{
 "cells": [
  {
   "cell_type": "markdown",
   "metadata": {},
   "source": [
    "# import libraries, set up credencials"
   ]
  },
  {
   "cell_type": "code",
   "execution_count": 1,
   "metadata": {},
   "outputs": [],
   "source": [
    "import tweepy\n",
    "import pandas as pd \n",
    "import csv\n",
    "from datetime import datetime\n",
    "import time\n",
    "pd.set_option('display.max_colwidth', 0)\n",
    "\n",
    "#My Twitter API Authentication Variables\n",
    "\n",
    "consumer_key = 'sCtsRiIsn1F1HNcYFfcLe8dsB'\n",
    "consumer_secret = 'wfr0UwLZeykzNXKhPJ9tbCqbon9gsbT5hCv6ORe5enpgTkJjr7'\n",
    "access_token = '1167132355343060993-mwujErptmxRp0ezVloJSpN8PUuMHbA'\n",
    "access_token_secret = 'XifmztRsyb5XdOPUCSF6YJujXQ61ThWe8d38H247UsNZe'\n",
    "\n",
    "\n",
    "auth = tweepy.OAuthHandler(consumer_key, consumer_secret)\n",
    "auth.set_access_token(access_token, access_token_secret)\n",
    "\n",
    "api = tweepy.API(auth,wait_on_rate_limit=True)\n",
    "\n",
    "\n"
   ]
  },
  {
   "cell_type": "markdown",
   "metadata": {},
   "source": [
    "# Retreive tweets and save them in a csv"
   ]
  },
  {
   "cell_type": "code",
   "execution_count": 2,
   "metadata": {},
   "outputs": [],
   "source": [
    "def get_tweets(listOfTweets, keyword, numOfTweets):\n",
    "    # Iterate through all tweets containing the given word, api search mode\n",
    "    for tweet in tweepy.Cursor(api.search, q=keyword, lang='en').items(numOfTweets):\n",
    "        # Add tweets in this format\n",
    "        try:\n",
    "            dict_ = {'Screen Name': tweet.user.screen_name,\n",
    "                    'User Name': tweet.user.name,\n",
    "                    'Tweet Created At': tweet.created_at,\n",
    "                    'Tweet Text': tweet.text,\n",
    "                    'User Location': tweet.user.location,\n",
    "                    'Tweet Coordinates': tweet.coordinates,\n",
    "                    'Retweet Count': tweet.retweet_count,\n",
    "                    'Retweeted': tweet.retweeted,\n",
    "                    'Phone Type': tweet.source,\n",
    "                    'Favorite Count': tweet.favorite_count,\n",
    "                    'Favorited': tweet.favorited,\n",
    "                    'Replied': tweet.in_reply_to_status_id_str,\n",
    "                    'ID': tweet.id\n",
    "                    }\n",
    "        except TweepError as e:\n",
    "            if 'Failed to send request:' in e.reason:\n",
    "                print (\"Time out error caught.\")\n",
    "                time.sleep(180)\n",
    "                continue\n",
    "        listOfTweets.append(dict_)   \n",
    "    return listOfTweets\n",
    "\n",
    "\n"
   ]
  },
  {
   "cell_type": "code",
   "execution_count": 3,
   "metadata": {},
   "outputs": [],
   "source": [
    "tweets=[]\n",
    "subject='Global warming'\n",
    "numOfTweets=10000\n",
    "Global_warming=get_tweets(tweets,subject, numOfTweets)\n"
   ]
  },
  {
   "cell_type": "code",
   "execution_count": 4,
   "metadata": {},
   "outputs": [
    {
     "data": {
      "text/plain": [
       "10000"
      ]
     },
     "execution_count": 4,
     "metadata": {},
     "output_type": "execute_result"
    }
   ],
   "source": [
    "len (Global_warming)"
   ]
  },
  {
   "cell_type": "code",
   "execution_count": 5,
   "metadata": {},
   "outputs": [
    {
     "data": {
      "text/html": [
       "<div>\n",
       "<style scoped>\n",
       "    .dataframe tbody tr th:only-of-type {\n",
       "        vertical-align: middle;\n",
       "    }\n",
       "\n",
       "    .dataframe tbody tr th {\n",
       "        vertical-align: top;\n",
       "    }\n",
       "\n",
       "    .dataframe thead th {\n",
       "        text-align: right;\n",
       "    }\n",
       "</style>\n",
       "<table border=\"1\" class=\"dataframe\">\n",
       "  <thead>\n",
       "    <tr style=\"text-align: right;\">\n",
       "      <th></th>\n",
       "      <th>Favorite Count</th>\n",
       "      <th>Favorited</th>\n",
       "      <th>ID</th>\n",
       "      <th>Phone Type</th>\n",
       "      <th>Replied</th>\n",
       "      <th>Retweet Count</th>\n",
       "      <th>Retweeted</th>\n",
       "      <th>Screen Name</th>\n",
       "      <th>Tweet Coordinates</th>\n",
       "      <th>Tweet Created At</th>\n",
       "      <th>Tweet Text</th>\n",
       "      <th>User Location</th>\n",
       "      <th>User Name</th>\n",
       "    </tr>\n",
       "  </thead>\n",
       "  <tbody>\n",
       "    <tr>\n",
       "      <th>0</th>\n",
       "      <td>0</td>\n",
       "      <td>False</td>\n",
       "      <td>1186852600404160512</td>\n",
       "      <td>Twitter Web App</td>\n",
       "      <td>None</td>\n",
       "      <td>164</td>\n",
       "      <td>False</td>\n",
       "      <td>eugene_byers</td>\n",
       "      <td>None</td>\n",
       "      <td>2019-10-23 03:51:25</td>\n",
       "      <td>RT @climatecosts: Exxon knew for more than 50 years that their products were causing global warming. Instead of warning the public, they sp…</td>\n",
       "      <td>Hillside, NJ</td>\n",
       "      <td>Eugene Byers</td>\n",
       "    </tr>\n",
       "    <tr>\n",
       "      <th>1</th>\n",
       "      <td>0</td>\n",
       "      <td>False</td>\n",
       "      <td>1186852499921104897</td>\n",
       "      <td>Twitter for iPhone</td>\n",
       "      <td>None</td>\n",
       "      <td>1829</td>\n",
       "      <td>False</td>\n",
       "      <td>sweetgin4E</td>\n",
       "      <td>None</td>\n",
       "      <td>2019-10-23 03:51:01</td>\n",
       "      <td>RT @1776Stonewall: I told you about the Canadian professor who was fired because she proved polar bears were thriving in the arctic - over…</td>\n",
       "      <td>👎dms 👎porn</td>\n",
       "      <td>Virginia</td>\n",
       "    </tr>\n",
       "    <tr>\n",
       "      <th>2</th>\n",
       "      <td>0</td>\n",
       "      <td>False</td>\n",
       "      <td>1186852484200820736</td>\n",
       "      <td>Twitter for Android</td>\n",
       "      <td>None</td>\n",
       "      <td>1829</td>\n",
       "      <td>False</td>\n",
       "      <td>americanqueen84</td>\n",
       "      <td>None</td>\n",
       "      <td>2019-10-23 03:50:57</td>\n",
       "      <td>RT @1776Stonewall: I told you about the Canadian professor who was fired because she proved polar bears were thriving in the arctic - over…</td>\n",
       "      <td>California, USA</td>\n",
       "      <td>Liz Sensanbaugher🇺🇸</td>\n",
       "    </tr>\n",
       "    <tr>\n",
       "      <th>3</th>\n",
       "      <td>0</td>\n",
       "      <td>False</td>\n",
       "      <td>1186852478203002881</td>\n",
       "      <td>Twitter for iPad</td>\n",
       "      <td>1186850063697563648</td>\n",
       "      <td>0</td>\n",
       "      <td>False</td>\n",
       "      <td>aguy18310792</td>\n",
       "      <td>None</td>\n",
       "      <td>2019-10-23 03:50:56</td>\n",
       "      <td>@Misfit603 @TexasRickPowell @CNN Global warming is still happening.</td>\n",
       "      <td>PNW</td>\n",
       "      <td>aguy</td>\n",
       "    </tr>\n",
       "    <tr>\n",
       "      <th>4</th>\n",
       "      <td>0</td>\n",
       "      <td>False</td>\n",
       "      <td>1186852446812831744</td>\n",
       "      <td>Twitter Web App</td>\n",
       "      <td>None</td>\n",
       "      <td>2877</td>\n",
       "      <td>False</td>\n",
       "      <td>Protectionist10</td>\n",
       "      <td>None</td>\n",
       "      <td>2019-10-23 03:50:48</td>\n",
       "      <td>RT @SayWhenLA: You circle jerk over Tulsi, yet she for UBI, Medicare all, amnesty, Weapons Ban, fossil fuel ban by 2050, against K Steile l…</td>\n",
       "      <td>Hawaii</td>\n",
       "      <td>🇺🇸Protectionist🇺🇸</td>\n",
       "    </tr>\n",
       "  </tbody>\n",
       "</table>\n",
       "</div>"
      ],
      "text/plain": [
       "   Favorite Count  Favorited                   ID           Phone Type  \\\n",
       "0  0               False      1186852600404160512  Twitter Web App       \n",
       "1  0               False      1186852499921104897  Twitter for iPhone    \n",
       "2  0               False      1186852484200820736  Twitter for Android   \n",
       "3  0               False      1186852478203002881  Twitter for iPad      \n",
       "4  0               False      1186852446812831744  Twitter Web App       \n",
       "\n",
       "               Replied  Retweet Count  Retweeted      Screen Name  \\\n",
       "0  None                 164            False      eugene_byers      \n",
       "1  None                 1829           False      sweetgin4E        \n",
       "2  None                 1829           False      americanqueen84   \n",
       "3  1186850063697563648  0              False      aguy18310792      \n",
       "4  None                 2877           False      Protectionist10   \n",
       "\n",
       "  Tweet Coordinates    Tweet Created At  \\\n",
       "0  None             2019-10-23 03:51:25   \n",
       "1  None             2019-10-23 03:51:01   \n",
       "2  None             2019-10-23 03:50:57   \n",
       "3  None             2019-10-23 03:50:56   \n",
       "4  None             2019-10-23 03:50:48   \n",
       "\n",
       "                                                                                                                                     Tweet Text  \\\n",
       "0  RT @climatecosts: Exxon knew for more than 50 years that their products were causing global warming. Instead of warning the public, they sp…   \n",
       "1  RT @1776Stonewall: I told you about the Canadian professor who was fired because she proved polar bears were thriving in the arctic - over…    \n",
       "2  RT @1776Stonewall: I told you about the Canadian professor who was fired because she proved polar bears were thriving in the arctic - over…    \n",
       "3  @Misfit603 @TexasRickPowell @CNN Global warming is still happening.                                                                            \n",
       "4  RT @SayWhenLA: You circle jerk over Tulsi, yet she for UBI, Medicare all, amnesty, Weapons Ban, fossil fuel ban by 2050, against K Steile l…   \n",
       "\n",
       "     User Location            User Name  \n",
       "0  Hillside, NJ     Eugene Byers         \n",
       "1  👎dms 👎porn       Virginia             \n",
       "2  California, USA  Liz Sensanbaugher🇺🇸  \n",
       "3  PNW              aguy                 \n",
       "4  Hawaii           🇺🇸Protectionist🇺🇸    "
      ]
     },
     "execution_count": 5,
     "metadata": {},
     "output_type": "execute_result"
    }
   ],
   "source": [
    "tweet_df=pd.DataFrame.from_dict(Global_warming)\n",
    "tweet_df.head()"
   ]
  },
  {
   "cell_type": "code",
   "execution_count": null,
   "metadata": {},
   "outputs": [],
   "source": []
  },
  {
   "cell_type": "code",
   "execution_count": 6,
   "metadata": {},
   "outputs": [],
   "source": [
    "tweet_df.to_csv('Global_warming.csv', sep='\\t', encoding='utf-8')"
   ]
  },
  {
   "cell_type": "code",
   "execution_count": null,
   "metadata": {},
   "outputs": [],
   "source": []
  }
 ],
 "metadata": {
  "kernelspec": {
   "display_name": "Python 3",
   "language": "python",
   "name": "python3"
  },
  "language_info": {
   "codemirror_mode": {
    "name": "ipython",
    "version": 3
   },
   "file_extension": ".py",
   "mimetype": "text/x-python",
   "name": "python",
   "nbconvert_exporter": "python",
   "pygments_lexer": "ipython3",
   "version": "3.7.3"
  }
 },
 "nbformat": 4,
 "nbformat_minor": 4
}
